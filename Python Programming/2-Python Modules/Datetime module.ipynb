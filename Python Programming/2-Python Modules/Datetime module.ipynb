{
 "cells": [
  {
   "cell_type": "markdown",
   "metadata": {},
   "source": [
    "https://docs.python.org/2/library/datetime.html#timedelta-objects"
   ]
  },
  {
   "cell_type": "markdown",
   "metadata": {},
   "source": [
    "# sleep() function"
   ]
  },
  {
   "cell_type": "code",
   "execution_count": null,
   "metadata": {},
   "outputs": [],
   "source": [
    "import time\n",
    "\n",
    "print(\"Hello\")\n",
    "time.sleep(3.0)\n",
    "print(\"Aung\")"
   ]
  },
  {
   "cell_type": "markdown",
   "metadata": {},
   "source": [
    "Commonly used classes in the datetime module are:\n",
    "\n",
    "date Class ,\n",
    "\n",
    "time Class ,\n",
    "\n",
    "datetime Class ,\n",
    "\n",
    "timedelta Class ,"
   ]
  },
  {
   "cell_type": "markdown",
   "metadata": {},
   "source": [
    "## date class"
   ]
  },
  {
   "cell_type": "code",
   "execution_count": 38,
   "metadata": {},
   "outputs": [
    {
     "name": "stdout",
     "output_type": "stream",
     "text": [
      "2022-05-23\n",
      "2019-11-16\n",
      "2031-01-15\n",
      "9999-12-31\n",
      "0001-01-01\n",
      "1 day, 0:00:00\n",
      "2019\n",
      "11\n",
      "16\n"
     ]
    }
   ],
   "source": [
    "import datetime\n",
    "\n",
    "#datetime.date(year, month, day)¶\n",
    "date_object = datetime.date(2022,5,23)\n",
    "\n",
    "#Return the current local date. This is equivalent to date.fromtimestamp(time.time()).\n",
    "today_object = datetime.date.today()\n",
    "\n",
    "#A Unix timestamp is the number of seconds between a particular date and January 1, 1970 at UTC\n",
    "time_stamp = datetime.date.fromtimestamp(1926243364)\n",
    "\n",
    "print(date_object)\n",
    "print(today_object)\n",
    "print(time_stamp)\n",
    "print(datetime.date.max)\n",
    "print(datetime.date.min)\n",
    "print(datetime.date.resolution)\n",
    "print(today.year)\n",
    "print(today.month)\n",
    "print(today.day)"
   ]
  },
  {
   "cell_type": "markdown",
   "metadata": {},
   "source": [
    "##  datetime class"
   ]
  },
  {
   "cell_type": "code",
   "execution_count": 46,
   "metadata": {},
   "outputs": [
    {
     "name": "stdout",
     "output_type": "stream",
     "text": [
      "2013-04-19 04:45:24\n",
      "2019-11-16 12:52:30.130673\n",
      "2019-11-16 12:52:30.130673\n",
      "2019-11-16 06:22:30.130673\n",
      "9999-12-31 23:59:59.999999\n",
      "0001-01-01 00:00:00\n",
      "0:00:00.000001\n",
      "2019\n",
      "11\n",
      "16\n",
      "12\n",
      "52\n",
      "30\n",
      "130673\n",
      "None\n"
     ]
    }
   ],
   "source": [
    "import datetime\n",
    "\n",
    "#datetime.datetime(year, month, day[, hour[, minute[, second[, microsecond[, tzinfo]]]]])\n",
    "datetime_object = datetime.datetime(2013,4,19,4,45,24)\n",
    "\n",
    "now = datetime.datetime.now()\n",
    "today = datetime.datetime.today()\n",
    "utcnow = datetime.datetime.utcnow()\n",
    "\n",
    "\n",
    "print(datetime_object)\n",
    "print(now)\n",
    "print(today)\n",
    "print(utcnow)\n",
    "print(datetime.datetime.max)\n",
    "print(datetime.datetime.min)\n",
    "print(datetime.datetime.resolution)\n",
    "print(now.year)\n",
    "print(now.month)\n",
    "print(now.day)\n",
    "print(now.hour)\n",
    "print(now.minute)\n",
    "print(now.second)\n",
    "print(now.microsecond)\n",
    "print(now.tzinfo)"
   ]
  },
  {
   "cell_type": "markdown",
   "metadata": {},
   "source": [
    "## time class"
   ]
  },
  {
   "cell_type": "code",
   "execution_count": 51,
   "metadata": {},
   "outputs": [
    {
     "name": "stdout",
     "output_type": "stream",
     "text": [
      "16:24:10.179736\n",
      "23:59:59.999999\n",
      "00:00:00\n",
      "0:00:00.000001\n",
      "16\n",
      "24\n",
      "10\n",
      "179736\n",
      "None\n"
     ]
    }
   ],
   "source": [
    "import datetime\n",
    "\n",
    "#datetime.time([hour[, minute[, second[, microsecond[, tzinfo]]]]])\n",
    "time_object = datetime.time(16,24,10,179736)\n",
    "\n",
    "\n",
    "print(time_object)\n",
    "print(datetime.time.max)\n",
    "print(datetime.time.min)\n",
    "print(datetime.time.resolution)\n",
    "print(time_object.hour)\n",
    "print(time_object.minute)\n",
    "print(time_object.second)\n",
    "print(time_object.microsecond)\n",
    "print(time_object.tzinfo)"
   ]
  },
  {
   "cell_type": "markdown",
   "metadata": {},
   "source": [
    "## timedelta class"
   ]
  },
  {
   "cell_type": "code",
   "execution_count": 66,
   "metadata": {},
   "outputs": [
    {
     "name": "stdout",
     "output_type": "stream",
     "text": [
      "0:00:00\n",
      "-7 days, 0:00:00\n",
      "7 days, 0:00:00\n",
      "-604800.0\n",
      "999999999 days, 23:59:59.999999\n",
      "-999999999 days, 0:00:00\n",
      "0:00:00.000001\n"
     ]
    }
   ],
   "source": [
    "import datetime\n",
    "\n",
    "#datetime.timedelta([days[, seconds[, microseconds[, milliseconds[, minutes[, hours[, weeks]]]]]]])\n",
    "timedelta_object1 = datetime.timedelta(days=11)\n",
    "timedelta_object2 = datetime.timedelta(days=18)\n",
    "result = timedelta_object1 - timedelta_object2\n",
    "\n",
    "\n",
    "print(timedelta_object)\n",
    "print(result)\n",
    "print(abs(result))\n",
    "print(result.total_seconds())\n",
    "print(datetime.timedelta.max)\n",
    "print(datetime.timedelta.min)\n",
    "print(datetime.timedelta.resolution)"
   ]
  },
  {
   "cell_type": "code",
   "execution_count": null,
   "metadata": {},
   "outputs": [],
   "source": []
  }
 ],
 "metadata": {
  "kernelspec": {
   "display_name": "Python 3",
   "language": "python",
   "name": "python3"
  },
  "language_info": {
   "codemirror_mode": {
    "name": "ipython",
    "version": 3
   },
   "file_extension": ".py",
   "mimetype": "text/x-python",
   "name": "python",
   "nbconvert_exporter": "python",
   "pygments_lexer": "ipython3",
   "version": "3.7.3"
  }
 },
 "nbformat": 4,
 "nbformat_minor": 2
}
