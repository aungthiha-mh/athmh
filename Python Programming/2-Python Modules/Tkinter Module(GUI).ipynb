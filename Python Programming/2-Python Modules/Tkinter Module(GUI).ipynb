{
 "cells": [
  {
   "cell_type": "markdown",
   "metadata": {},
   "source": [
    "# Geometry Management\n",
    "\n",
    "## .pack()\n",
    "## .grid()\n",
    "\n",
    "# Used Functions in this following codes\n",
    "\n",
    "## window.title()\n",
    "## window.bind()\n",
    "## window.config()\n",
    "## tk.mainloop()\n",
    "## tk.Label()\n",
    "## tk.Frame()\n",
    "## tk.Button()\n",
    "## tk.Checkbutton()\n",
    "## tk.Entry()\n",
    "## -----------------------------------------------------------------------------------------------------\n",
    "## tk.messagebox.showinfo()\n",
    "## tk.messagebox.askquestion()\n",
    "## -----------------------------------------------------------------------------------------------------\n",
    "## tk.Canvas()\n",
    "## canvas.pack()                                {  canvas = tkinter.Canvas()   }\n",
    "\n",
    "\n",
    "## -----------------------------------------------------------------------------------------------------\n",
    "\n",
    "## tk.Menu()\n",
    "## root_menu.add_cascade             {  root_menu = tk.Menu(window)        }\n",
    "## file_menu.add_command            {  file_menu   = tk.Menu(root_menu)   }\n",
    "## file_menu.add_separator()          {  file_menu   = tk.Menu(root_menu)   }\n",
    "## ------------------------------------------------------------------------------------------------------\n"
   ]
  },
  {
   "cell_type": "markdown",
   "metadata": {},
   "source": [
    "## Text in a window"
   ]
  },
  {
   "cell_type": "code",
   "execution_count": null,
   "metadata": {},
   "outputs": [],
   "source": [
    "import tkinter as tk\n",
    "\n",
    "window = tk.Tk()                                                                     #Initialize the window manager\n",
    "window.title(\"Hello\")                                                              #the title of the window\n",
    "label = tk.Label(window,text =\"Hello World\").pack()           #to insert some objects into the window and to display the widget in a size it requires      \n",
    "tk.mainloop()                                                                           #to display the window until you manually close it"
   ]
  },
  {
   "cell_type": "markdown",
   "metadata": {},
   "source": [
    "## Buttons with colors"
   ]
  },
  {
   "cell_type": "code",
   "execution_count": null,
   "metadata": {},
   "outputs": [],
   "source": [
    "import tkinter as tk\n",
    "\n",
    "window = tk.Tk()\n",
    "window.title(\"GUI\")\n",
    "label = tk.Label(window,text =\"Hello , We are buttons !\",bg=\"pink\").pack(fill=\"x\") \n",
    "# creating 2 frames TOP and BOTTOM\n",
    "\n",
    "frame1 = tk.Frame(window).pack()\n",
    "\n",
    "btn1 = tk.Button(frame1, text = \"Button1\", fg = \"red\" , bg = \"yellow\").pack(side=\"top\" )                   #fg - foreground' is used to color the contents\n",
    "btn2 = tk.Button(frame1, text = \"Button2\", fg = \"pink\" , bg = \"blue\").pack(side=\"bottom\")\n",
    "btn2 = tk.Button(frame1, text = \"Button2\", fg = \"pink\" , bg = \"red\").pack(side=\"left\")\n",
    "btn2 = tk.Button(frame1, text = \"Button2\", fg = \"pink\" , bg = \"green\").pack(side=\"right\")\n",
    "\n",
    "\n",
    "tk.mainloop()"
   ]
  },
  {
   "cell_type": "markdown",
   "metadata": {},
   "source": [
    "## Text with filled Colors"
   ]
  },
  {
   "cell_type": "code",
   "execution_count": null,
   "metadata": {},
   "outputs": [],
   "source": [
    "import tkinter as tk\n",
    "\n",
    "window = tk.Tk()\n",
    "window.title(\"Aung Thiha\")\n",
    "\n",
    "label = tk.Label(window,text=\"Hey,I am Aung Thiha\",fg = \"blue\" , bg=\"pink\").pack(side=\"top\",fill=\"x\")\n",
    "label1 = tk.Label(window,text=\"My Gf is Thiri Shun Wai\",fg = \"blue\" , bg=\"yellow\").pack(side=\"left\",fill=\"y\")\n",
    "tk.mainloop()"
   ]
  },
  {
   "cell_type": "markdown",
   "metadata": {},
   "source": [
    "## Using grid() to use Entry() as an input"
   ]
  },
  {
   "cell_type": "code",
   "execution_count": null,
   "metadata": {},
   "outputs": [],
   "source": [
    "import tkinter as tk\n",
    "\n",
    "window = tk.Tk()\n",
    "window.title(\"Aung Thiha\")\n",
    "label = tk.Label(window,text =\"Username\").grid(row=0,column=0)\n",
    "tk.Entry(window,show=\"*\").grid(row = 0, column = 1)                                                                 # 'Entry' is used to display the input-field\n",
    "label1 = tk.Label(window,text =\"Password\").grid(row=1,column=0)\n",
    "tk.Entry(window,show=\"*\").grid(row = 1 ,column=1)                                                                   # 'Entry' is used to display the input-field\n",
    "tk.Checkbutton(window, text = \"Keep Me Logged In\").grid(rowspan = 2)             #to create the check buttons\n",
    "tk.mainloop()"
   ]
  },
  {
   "cell_type": "markdown",
   "metadata": {},
   "source": [
    "## Button() with command to binding function"
   ]
  },
  {
   "cell_type": "code",
   "execution_count": null,
   "metadata": {},
   "outputs": [],
   "source": [
    "import tkinter as tk\n",
    "window = tk.Tk()\n",
    "window.title(\"Hello GUI\")\n",
    "\n",
    "frame = tk.Frame(window).pack()\n",
    "\n",
    "def hello():\n",
    "    tk.Label(window,text=\"Aung Thiha\").pack()\n",
    "    \n",
    "    \n",
    "tk.Button(frame,fg=\"red\",bg=\"green\",text=\"Click Me\",command=hello).pack()\n",
    "\n",
    "tk.mainloop()"
   ]
  },
  {
   "cell_type": "markdown",
   "metadata": {},
   "source": [
    "## bind() to use Mouse Functions"
   ]
  },
  {
   "cell_type": "code",
   "execution_count": null,
   "metadata": {},
   "outputs": [],
   "source": [
    "import tkinter\n",
    "\n",
    "window = tkinter.Tk()\n",
    "window.title(\"GUI\")\n",
    "\n",
    "#creating 3 different functions for 3 events\n",
    "def left_click(event):\n",
    "    tkinter.Label(window, text = \"Left Click!\").pack()\n",
    "\n",
    "def middle_click(event):\n",
    "    tkinter.Label(window, text = \"Middle Click!\").pack()\n",
    "\n",
    "def right_click(event):\n",
    "    tkinter.Label(window, text = \"Right Click!\").pack()\n",
    "\n",
    "window.bind(\"<Button-1>\", left_click)                                           #to use Mouse Binding  and don't forget 'event'  parameter  in function\n",
    "window.bind(\"<Button-2>\", middle_click)                                     #to use Mouse Binding \n",
    "window.bind(\"<Button-3>\", right_click)                                        #to use Mouse Binding\n",
    "\n",
    "window.mainloop()"
   ]
  },
  {
   "cell_type": "markdown",
   "metadata": {},
   "source": [
    "## Video Capturing with one click button"
   ]
  },
  {
   "cell_type": "code",
   "execution_count": null,
   "metadata": {},
   "outputs": [],
   "source": [
    "import tkinter as tk\n",
    "import cv2\n",
    "window = tk.Tk()\n",
    "window.title(\"Hello GUI\")\n",
    "\n",
    "cap = cv2.VideoCapture(0)\n",
    "frame = tk.Frame(window).pack()\n",
    "\n",
    "def hello(event):\n",
    "    tk.Label(window,text=\"Aung Thiha\").pack()\n",
    "    while(True):\n",
    "        \n",
    "        ret, frame = cap.read()\n",
    "        cv2.imshow('frame',frame)\n",
    "        k = cv2.waitKey(1) & 0xFF\n",
    "        if  k == 27:\n",
    "            break\n",
    "def hi(event):\n",
    "    tk.Label(window,text=\"Thiri\").pack()\n",
    "    while(True):\n",
    "        \n",
    "        ret1, frame1 = cap.read()\n",
    "        gray = cv2.cvtColor(frame1,cv2.COLOR_BGR2GRAY)\n",
    "        cv2.imshow('gray',gray)\n",
    "        k = cv2.waitKey(1) & 0xFF\n",
    "        if  k == 27:\n",
    "            break\n",
    "\n",
    "window.bind(\"<Button-1>\",hello)\n",
    "window.bind(\"<Button-3>\",hi)\n",
    "tk.mainloop()\n",
    "cap.release()\n",
    "cv2.destroyAllWindows()"
   ]
  },
  {
   "cell_type": "markdown",
   "metadata": {},
   "source": [
    "## Classes"
   ]
  },
  {
   "cell_type": "code",
   "execution_count": null,
   "metadata": {},
   "outputs": [],
   "source": [
    "import tkinter\n",
    "\n",
    "class button():\n",
    "    def __init__(self,window):\n",
    "        self.button1 = tk.Button(window,text=\"Click Me!\",command=self.hi).pack()\n",
    "        self.close = tk.Button(window,text=\"Close\",command=window.quit).pack()\n",
    "    def hi(event):\n",
    "        tk.Label(window,text=\"I know\").pack()\n",
    "window = tk.Tk()\n",
    "window.title(\"GUI\")\n",
    "bt = button(window)\n",
    "\n",
    "tk.mainloop()"
   ]
  },
  {
   "cell_type": "markdown",
   "metadata": {},
   "source": [
    "## Drop-Down Menu"
   ]
  },
  {
   "cell_type": "code",
   "execution_count": null,
   "metadata": {},
   "outputs": [],
   "source": [
    "import tkinter\n",
    "\n",
    "window = tkinter.Tk()\n",
    "window.title(\"GUI\")\n",
    "\n",
    "def function():\n",
    "    pass\n",
    "\n",
    "# creating a root menu to insert all the sub menus\n",
    "root_menu = tkinter.Menu(window)                                                # to insert different types of menu options\n",
    "window.config(menu = root_menu)                                                 # to tell the tkinter to initiate Menu\n",
    "\n",
    "# creating sub menus in the root menu\n",
    "file_menu = tkinter.Menu(root_menu) # it intializes a new su menu in the root menu\n",
    "root_menu.add_cascade(label = \"File\", menu = file_menu) # it creates the name of the sub menu\n",
    "file_menu.add_command(label = \"New \", command = function) # it adds a option to the sub menu 'command' parameter is used to do some action\n",
    "file_menu.add_command(label = \"Open \", command = function)\n",
    "file_menu.add_command(label = \"Save \", command = function)\n",
    "file_menu.add_separator() # it adds a line after the 'Open files' option\n",
    "file_menu.add_command(label = \"Exit\", command = window.quit)\n",
    "\n",
    "# creting another sub menu\n",
    "edit_menu = tkinter.Menu(root_menu)\n",
    "root_menu.add_cascade(label = \"Edit\", menu = edit_menu)\n",
    "edit_menu.add_command(label = \"Undo\", command = function)\n",
    "edit_menu.add_command(label = \"Redo\", command = function)\n",
    "\n",
    "view_menu = tkinter.Menu(root_menu)\n",
    "root_menu.add_cascade(label = \"View\", menu = view_menu)\n",
    "view_menu.add_command(label = \"Zoom in\", command = function)\n",
    "view_menu.add_command(label = \"Zoom out\", command = function)\n",
    "\n",
    "window.mainloop()"
   ]
  },
  {
   "cell_type": "markdown",
   "metadata": {},
   "source": [
    "## Alert Box"
   ]
  },
  {
   "cell_type": "code",
   "execution_count": null,
   "metadata": {},
   "outputs": [],
   "source": [
    "import tkinter\n",
    "import tkinter.messagebox\n",
    "\n",
    "window = tkinter.Tk()\n",
    "window.title(\"GUI\")\n",
    "\n",
    "# creating a simple alert box\n",
    "tkinter.messagebox.showinfo(\"Alert Message\", \"This is just a alert message!\")\n",
    "\n",
    "# creating a question to get the response from the user [Yes or No Question] \n",
    "response = tkinter.messagebox.askquestion(\"Simple Question\", \"Do you love Python?\")\n",
    "\n",
    "# If user clicks 'Yes' then it returns 1 else it returns 0 \n",
    "if response == \"yes\":\n",
    "    tkinter.Label(window, text = \"You love Python!\").pack()\n",
    "else:\n",
    "    tkinter.Label(window, text = \"You don't love Python!\").pack()\n",
    "\n",
    "window.mainloop()"
   ]
  },
  {
   "cell_type": "markdown",
   "metadata": {},
   "source": [
    "## Menu Function with Password Log-In"
   ]
  },
  {
   "cell_type": "code",
   "execution_count": null,
   "metadata": {},
   "outputs": [],
   "source": [
    "import tkinter\n",
    "\n",
    "window = tkinter.Tk()\n",
    "window.title(\"GUI\")\n",
    "\n",
    "def function():\n",
    "    pass\n",
    "\n",
    "# creating a root menu to insert all the sub menus\n",
    "root_menu = tkinter.Menu(window)                                                # to insert different types of menu options\n",
    "window.config(menu = root_menu)                                                 # to tell the tkinter to initiate Menu\n",
    "\n",
    "# creating sub menus in the root menu\n",
    "file_menu = tkinter.Menu(root_menu) # it intializes a new su menu in the root menu\n",
    "root_menu.add_cascade(label = \"File\", menu = file_menu) # it creates the name of the sub menu\n",
    "file_menu.add_command(label = \"New \", command = function) # it adds a option to the sub menu 'command' parameter is used to do some action\n",
    "file_menu.add_command(label = \"Open \", command = function)\n",
    "file_menu.add_command(label = \"Save \", command = function)\n",
    "file_menu.add_separator() # it adds a line after the 'Open files' option\n",
    "file_menu.add_command(label = \"Exit\", command = window.quit)\n",
    "\n",
    "# creting another sub menu\n",
    "edit_menu = tkinter.Menu(root_menu)\n",
    "root_menu.add_cascade(label = \"Edit\", menu = edit_menu)\n",
    "edit_menu.add_command(label = \"Undo\", command = function)\n",
    "edit_menu.add_command(label = \"Redo\", command = function)\n",
    "\n",
    "view_menu = tkinter.Menu(root_menu)\n",
    "root_menu.add_cascade(label = \"View\", menu = view_menu)\n",
    "view_menu.add_command(label = \"Zoom in\", command = function)\n",
    "view_menu.add_command(label = \"Zoom out\", command = function)\n",
    "\n",
    "#frame = tkinter.Frame(window).pack()\n",
    "\n",
    "#def hello():\n",
    "   # tkinter.Label(window,text=\"Aung Thiha\").pack()\n",
    "#tkinter.Button(frame,fg=\"red\",bg=\"green\",text=\"Click Me\",command=hello).pack()\n",
    "\n",
    "label = tkinter.Label(window,text =\"Username\").grid(row=0,column=0)\n",
    "tkinter.Entry(window,show=\"*\").grid(row = 0, column = 1)                                                                 # 'Entry' is used to display the input-field\n",
    "label1 = tkinter.Label(window,text =\"Password\").grid(row=1,column=0)\n",
    "tkinter.Entry(window,show=\"*\").grid(row = 1 ,column=1)                                                                   # 'Entry' is used to display the input-field\n",
    "tkinter.Checkbutton(window, text = \"Keep Me Logged In\").grid(rowspan = 2)             #to create the check buttons\n",
    "\n",
    "window.mainloop()"
   ]
  },
  {
   "cell_type": "markdown",
   "metadata": {},
   "source": [
    "## Simple Shapes"
   ]
  },
  {
   "cell_type": "code",
   "execution_count": null,
   "metadata": {},
   "outputs": [],
   "source": [
    "import tkinter\n",
    "\n",
    "window = tkinter.Tk()\n",
    "window.title(\"GUI\")\n",
    "\n",
    "# creating the 'Canvas' area of width and height 500px\n",
    "canvas = tkinter.Canvas(window, width = 700, height = 500)\n",
    "canvas.pack()\n",
    "\n",
    "# 'create_line' is used to create a line. Parameters:- (starting x-point, starting y-point, ending x-point, ending y-point)\n",
    "line1 = canvas.create_line(0, 0, 500, 300)\n",
    "line2 = canvas.create_line(0, 30, 250, 150, fill = \"red\")\n",
    "\n",
    "# 'create_rectangle' is used to create rectangle. Parameters:- (starting x-point, starting y-point, width, height, fill)\n",
    "# starting point the coordinates of top-left point of rectangle\n",
    "rect = canvas.create_rectangle(500, 25, 175, 75, fill = \"green\")\n",
    "\n",
    "# you 'delete' shapes using delete method passing the name of the variable as parameter.\n",
    "canvas.delete(line1)\n",
    "# you 'delete' all the shapes by passing 'ALL' as parameter to the 'delete' method\n",
    "#canvas.delete(tkinter.ALL)\n",
    "\n",
    "window.mainloop()"
   ]
  },
  {
   "cell_type": "markdown",
   "metadata": {},
   "source": [
    "## Images and Icons"
   ]
  },
  {
   "cell_type": "code",
   "execution_count": null,
   "metadata": {},
   "outputs": [],
   "source": [
    "import tkinter\n",
    "\n",
    "window = tkinter.Tk()\n",
    "window.title(\"GUI\")\n",
    "\n",
    "# taking image from the directory and storing the source in a variable\n",
    "imgpath = \"C://Users//Aung Thiha//imagesforcv2//messi.jpg\"\n",
    "icon = tkinter.PhotoImage(file = imgpath)\n",
    "\n",
    "# displaying the picture using a 'Label' by passing the 'picture' variriable to 'image' parameter\n",
    "label = tkinter.Label(window, image = icon)\n",
    "label.pack()\n",
    "\n",
    "window.mainloop()"
   ]
  },
  {
   "cell_type": "markdown",
   "metadata": {},
   "source": [
    "# Making Calculator"
   ]
  },
  {
   "cell_type": "code",
   "execution_count": null,
   "metadata": {},
   "outputs": [],
   "source": [
    "from tkinter import *\n",
    "\n",
    "# creating basic window\n",
    "window = Tk()\n",
    "window.geometry(\"312x324\") # size of the window width:- 500, height:- 375\n",
    "window.resizable(0, 0) # this prevents from resizing the window\n",
    "window.title(\"Calcualtor\")\n",
    "\n",
    "\n",
    "# 'btn_click' function continuously updates the input field whenever you enters a number\n",
    "def btn_click(item):\n",
    "    global expression\n",
    "    expression = expression + str(item)\n",
    "    input_text.set(expression)\n",
    "\n",
    "# 'btn_clear' function clears the input field\n",
    "def btn_clear():\n",
    "    global expression\n",
    "    expression = \"\"\n",
    "    input_text.set(\"\")\n",
    "\n",
    "# 'btn_equal' calculates the expression present in input field\n",
    "def btn_equal():\n",
    "    global expression\n",
    "    result = str(eval(expression)) # 'eval' function evalutes the string expression directly\n",
    "    # you can also implement your own function to evalute the expression istead of 'eval' function\n",
    "    input_text.set(result)\n",
    "    expression = \"\"\n",
    "\n",
    "expression = \"\"\n",
    "# 'StringVar()' is used to get the instance of input field\n",
    "input_text = StringVar()\n",
    "\n",
    "\n",
    "# creating a frame for the input field\n",
    "input_frame = Frame(window, width = 312, height = 50, bd = 0, highlightbackground = \"black\", highlightcolor = \"black\", highlightthickness = 1)\n",
    "input_frame.pack(side = TOP)\n",
    "\n",
    "\n",
    "# creating a input field inside the 'Frame'\n",
    "input_field = Entry(input_frame, font = ('arial', 18, 'bold'), textvariable = input_text, width = 50, bg = \"#eee\", bd = 0, justify = RIGHT)\n",
    "input_field.grid(row = 0, column = 0)\n",
    "input_field.pack(ipady = 10) # 'ipady' is internal padding to increase the height of input field\n",
    "\n",
    "\n",
    "# creating another 'Frame' for the button below the 'input_frame'\n",
    "btns_frame = Frame(window, width = 312, height = 272.5, bg = \"grey\")\n",
    "btns_frame.pack()\n",
    "\n",
    "\n",
    "# first row\n",
    "clear = Button(btns_frame, text = \"C\", fg = \"black\", width = 32, height = 3, bd = 0, bg = \"#eee\", cursor = \"hand2\", command = lambda: btn_clear()).grid(row = 0, column = 0, columnspan = 3, padx = 1, pady = 1)\n",
    "divide = Button(btns_frame, text = \"/\", fg = \"black\", width = 10, height = 3, bd = 0, bg = \"#eee\", cursor = \"hand2\", command = lambda: btn_click(\"/\")).grid(row = 0, column = 3, padx = 1, pady = 1)\n",
    "\n",
    "\n",
    "# second row\n",
    "seven = Button(btns_frame, text = \"7\", fg = \"black\", width = 10, height = 3, bd = 0, bg = \"#fff\", cursor = \"hand2\", command = lambda: btn_click(7)).grid(row = 1, column = 0, padx = 1, pady = 1)\n",
    "eight = Button(btns_frame, text = \"8\", fg = \"black\", width = 10, height = 3, bd = 0, bg = \"#fff\", cursor = \"hand2\", command = lambda: btn_click(8)).grid(row = 1, column = 1, padx = 1, pady = 1)\n",
    "nine = Button(btns_frame, text = \"9\", fg = \"black\", width = 10, height = 3, bd = 0, bg = \"#fff\", cursor = \"hand2\", command = lambda: btn_click(9)).grid(row = 1, column = 2, padx = 1, pady = 1)\n",
    "multiply = Button(btns_frame, text = \"*\", fg = \"black\", width = 10, height = 3, bd = 0, bg = \"#eee\", cursor = \"hand2\", command = lambda: btn_click(\"*\")).grid(row = 1, column = 3, padx = 1, pady = 1)\n",
    "\n",
    "\n",
    "# third row\n",
    "four = Button(btns_frame, text = \"4\", fg = \"black\", width = 10, height = 3, bd = 0, bg = \"#fff\", cursor = \"hand2\", command = lambda: btn_click(4)).grid(row = 2, column = 0, padx = 1, pady = 1)\n",
    "five = Button(btns_frame, text = \"5\", fg = \"black\", width = 10, height = 3, bd = 0, bg = \"#fff\", cursor = \"hand2\", command = lambda: btn_click(5)).grid(row = 2, column = 1, padx = 1, pady = 1)\n",
    "six = Button(btns_frame, text = \"6\", fg = \"black\", width = 10, height = 3, bd = 0, bg = \"#fff\", cursor = \"hand2\", command = lambda: btn_click(6)).grid(row = 2, column = 2, padx = 1, pady = 1)\n",
    "minus = Button(btns_frame, text = \"-\", fg = \"black\", width = 10, height = 3, bd = 0, bg = \"#eee\", cursor = \"hand2\", command = lambda: btn_click(\"-\")).grid(row = 2, column = 3, padx = 1, pady = 1)\n",
    "\n",
    "\n",
    "# fourth row\n",
    "one = Button(btns_frame, text = \"1\", fg = \"black\", width = 10, height = 3, bd = 0, bg = \"#fff\", cursor = \"hand2\", command = lambda: btn_click(1)).grid(row = 3, column = 0, padx = 1, pady = 1)\n",
    "two = Button(btns_frame, text = \"2\", fg = \"black\", width = 10, height = 3, bd = 0, bg = \"#fff\", cursor = \"hand2\", command = lambda: btn_click(2)).grid(row = 3, column = 1, padx = 1, pady = 1)\n",
    "three = Button(btns_frame, text = \"3\", fg = \"black\", width = 10, height = 3, bd = 0, bg = \"#fff\", cursor = \"hand2\", command = lambda: btn_click(3)).grid(row = 3, column = 2, padx = 1, pady = 1)\n",
    "plus = Button(btns_frame, text = \"+\", fg = \"black\", width = 10, height = 3, bd = 0, bg = \"#eee\", cursor = \"hand2\", command = lambda: btn_click(\"+\")).grid(row = 3, column = 3, padx = 1, pady = 1)\n",
    "\n",
    "\n",
    "# fourth row\n",
    "zero = Button(btns_frame, text = \"0\", fg = \"black\", width = 21, height = 3, bd = 0, bg = \"#fff\", cursor = \"hand2\", command = lambda: btn_click(0)).grid(row = 4, column = 0, columnspan = 2, padx = 1, pady = 1)\n",
    "point = Button(btns_frame, text = \".\", fg = \"black\", width = 10, height = 3, bd = 0, bg = \"#eee\", cursor = \"hand2\", command = lambda: btn_click(\".\")).grid(row = 4, column = 2, padx = 1, pady = 1)\n",
    "equals = Button(btns_frame, text = \"=\", fg = \"black\", width = 10, height = 3, bd = 0, bg = \"#eee\", cursor = \"hand2\", command = lambda: btn_equal()).grid(row = 4, column = 3, padx = 1, pady = 1)\n",
    "\n",
    "\n",
    "window.mainloop()"
   ]
  }
 ],
 "metadata": {
  "kernelspec": {
   "display_name": "Python 3",
   "language": "python",
   "name": "python3"
  },
  "language_info": {
   "codemirror_mode": {
    "name": "ipython",
    "version": 3
   },
   "file_extension": ".py",
   "mimetype": "text/x-python",
   "name": "python",
   "nbconvert_exporter": "python",
   "pygments_lexer": "ipython3",
   "version": "3.7.3"
  }
 },
 "nbformat": 4,
 "nbformat_minor": 2
}
