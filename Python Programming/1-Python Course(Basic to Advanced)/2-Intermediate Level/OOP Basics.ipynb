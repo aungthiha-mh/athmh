{
 "cells": [
  {
   "cell_type": "markdown",
   "metadata": {},
   "source": [
    "## Normal Class"
   ]
  },
  {
   "cell_type": "code",
   "execution_count": 2,
   "metadata": {},
   "outputs": [
    {
     "name": "stdout",
     "output_type": "stream",
     "text": [
      "I am first calculator !\n"
     ]
    }
   ],
   "source": [
    "class calculator1():\n",
    "    \n",
    "    types = \"Modern Calculator\"\n",
    "    \n",
    "    def __init__(self,size,price,weight):\n",
    "        self.__size = 100\n",
    "        self.price = price\n",
    "        self.weight = weight\n",
    "        print(\"I am first calculator !\")\n",
    "    \n",
    "    def add(self,a,b):\n",
    "        a = int(input(\"Enter first number : \"))\n",
    "        b = int(input(\"Enter second number : \"))\n",
    "        result = a + b\n",
    "        return result\n",
    "    \n",
    "    def subtract(self,a,b):\n",
    "        a = int(input(\"Enter first number : \"))\n",
    "        b = int(input(\"Enter second number : \"))\n",
    "        result = a - b\n",
    "        return result\n",
    "    \n",
    "\n",
    "cal1 = calculator1(100,\"20000 Kyats\" , 50)"
   ]
  },
  {
   "cell_type": "markdown",
   "metadata": {},
   "source": [
    "## Inheritance Class"
   ]
  },
  {
   "cell_type": "code",
   "execution_count": 5,
   "metadata": {},
   "outputs": [
    {
     "name": "stdout",
     "output_type": "stream",
     "text": [
      "I am first calculator !\n",
      "I am second calculator !\n",
      "(<class '__main__.calculator2'>, <class '__main__.calculator1'>, <class 'object'>)\n",
      "[<class '__main__.calculator2'>, <class '__main__.calculator1'>, <class 'object'>]\n"
     ]
    }
   ],
   "source": [
    "''' Multiple Inheritance'''\n",
    "\n",
    "class calculator2(calculator1):\n",
    "    \n",
    "    def __init__(self,size,price,weight):\n",
    "        \n",
    "        calculator1.__init__(self,size,price,weight)\n",
    "        print(\"I am second calculator !\")\n",
    "        \n",
    "    \n",
    "    def multiply(self,a,b):\n",
    "        a = int(input(\"Enter first number : \"))\n",
    "        b = int(input(\"Enter second number : \"))\n",
    "        result = a * b\n",
    "        return result\n",
    "    \n",
    "    def divide(self,a,b):\n",
    "        a = int(input(\"Enter first number : \"))\n",
    "        b = int(input(\"Enter second number : \"))\n",
    "        result = a / b\n",
    "        return result\n",
    "cal2 = calculator2(100,\"20000 Kyats\" , 50 )\n",
    "\n",
    "# Method Resolution \n",
    "print(calculator2.__mro__)\n",
    "print(calculator2.mro())"
   ]
  },
  {
   "cell_type": "markdown",
   "metadata": {},
   "source": [
    "## Encapsulation"
   ]
  },
  {
   "cell_type": "code",
   "execution_count": 6,
   "metadata": {},
   "outputs": [
    {
     "name": "stdout",
     "output_type": "stream",
     "text": [
      "Birth name is : Aung Thiha\n",
      "Birth name is : Aung Thiha\n",
      "Birth name is : Thiri\n"
     ]
    }
   ],
   "source": [
    "# Private attribute can use in methods of its class\n",
    "\n",
    "'''Encapsulation prevents data from direct modification'''\n",
    "\n",
    "class Aungthiha:\n",
    "\n",
    "    def __init__(self):\n",
    "        self.__name = \"Aung Thiha\"\n",
    "\n",
    "    def name(self):\n",
    "        print(\"Birth name is : {}\".format(self.__name))\n",
    "        \n",
    "    def newname(self, new):\n",
    "        self.__name = new\n",
    "\n",
    "ath = Aungthiha()\n",
    "ath.name()\n",
    "\n",
    "# change the name\n",
    "ath.__name = \"Shun Wai\"\n",
    "ath.name()\n",
    "\n",
    "# using setter function\n",
    "ath.newname(\"Thiri\")\n",
    "ath.name()"
   ]
  },
  {
   "cell_type": "markdown",
   "metadata": {},
   "source": [
    "## Polymorphism"
   ]
  },
  {
   "cell_type": "code",
   "execution_count": 9,
   "metadata": {},
   "outputs": [
    {
     "name": "stdout",
     "output_type": "stream",
     "text": [
      "Parrot can fly\n",
      "Parrot can't swim\n",
      "Penguin can't fly\n",
      "Penguin can swim\n"
     ]
    }
   ],
   "source": [
    "class Parrot:\n",
    "\n",
    "    def fly(self):\n",
    "        print(\"Parrot can fly\")\n",
    "    \n",
    "    def swim(self):\n",
    "        print(\"Parrot can't swim\")\n",
    "\n",
    "class Penguin:\n",
    "\n",
    "    def fly(self):\n",
    "        print(\"Penguin can't fly\")\n",
    "    \n",
    "    def swim(self):\n",
    "        print(\"Penguin can swim\")\n",
    "\n",
    "# common interface\n",
    "def flying_test(bird):\n",
    "    bird.fly()\n",
    "    bird.swim()\n",
    "\n",
    "#instantiate objects\n",
    "blu = Parrot()\n",
    "peggy = Penguin()\n",
    "\n",
    "# passing the object\n",
    "flying_test(blu)\n",
    "flying_test(peggy)"
   ]
  },
  {
   "cell_type": "markdown",
   "metadata": {},
   "source": [
    "# Operator Overloading"
   ]
  },
  {
   "cell_type": "code",
   "execution_count": 32,
   "metadata": {},
   "outputs": [
    {
     "name": "stdout",
     "output_type": "stream",
     "text": [
      "(8 , 11)\n"
     ]
    }
   ],
   "source": [
    "class Point:\n",
    "    def __init__(self, x = 0, y = 0):\n",
    "        self.x = x\n",
    "        self.y = y\n",
    "    def __str__(self):\n",
    "        return \"({} , {})\".format(self.x,self.y)\n",
    "    def __add__(self,i):\n",
    "        x = self.x+i.x\n",
    "        y = self.y+i.y\n",
    "        return Point(x,y)\n",
    "p1 = Point(3,5)\n",
    "p2 = Point(5,6)\n",
    "print(p1+p2)"
   ]
  }
 ],
 "metadata": {
  "kernelspec": {
   "display_name": "Python 3",
   "language": "python",
   "name": "python3"
  },
  "language_info": {
   "codemirror_mode": {
    "name": "ipython",
    "version": 3
   },
   "file_extension": ".py",
   "mimetype": "text/x-python",
   "name": "python",
   "nbconvert_exporter": "python",
   "pygments_lexer": "ipython3",
   "version": "3.7.3"
  }
 },
 "nbformat": 4,
 "nbformat_minor": 2
}
