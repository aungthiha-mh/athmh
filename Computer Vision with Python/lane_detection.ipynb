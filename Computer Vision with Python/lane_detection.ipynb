{
 "cells": [
  {
   "cell_type": "markdown",
   "metadata": {},
   "source": [
    "## Step one"
   ]
  },
  {
   "cell_type": "code",
   "execution_count": null,
   "metadata": {},
   "outputs": [],
   "source": [
    "import cv2\n",
    "import numpy as np\n",
    "\n",
    "def canny(image):\n",
    "    gray = cv2.cvtColor(lane_image,cv2.COLOR_BGR2GRAY)\n",
    "    blur = cv2.GaussianBlur(gray,(5,5),0)\n",
    "    canny = cv2.Canny(blur,50,150)\n",
    "    return canny\n",
    "\n",
    "filepath = \"C:\\\\Users\\\\Aung Thiha\\\\Lane Detection\\\\test_image.png\"\n",
    "image = cv2.imread(filepath)\n",
    "lane_image = np.copy(image)\n",
    "canny = canny(lane_image)\n",
    "\n",
    "cv2.imshow(\"lane\",canny)\n",
    "cv2.waitKey(0)\n",
    "cv2.destroyAllWindows()"
   ]
  },
  {
   "cell_type": "code",
   "execution_count": null,
   "metadata": {},
   "outputs": [],
   "source": [
    "import cv2\n",
    "import numpy as np\n",
    "import matplotlib.pyplot as plt\n",
    "\n",
    "def canny(image):\n",
    "    gray = cv2.cvtColor(lane_image,cv2.COLOR_BGR2GRAY)\n",
    "    blur = cv2.GaussianBlur(gray,(5,5),0)\n",
    "    canny = cv2.Canny(blur,50,150)\n",
    "    return canny\n",
    "\n",
    "filepath = \"C:\\\\Users\\\\Aung Thiha\\\\Lane Detection\\\\test_image.png\"\n",
    "image = cv2.imread(filepath)\n",
    "lane_image = np.copy(image)\n",
    "canny = canny(lane_image)\n",
    "\n",
    "plt.imshow(canny)\n",
    "plt.show()"
   ]
  },
  {
   "cell_type": "markdown",
   "metadata": {},
   "source": [
    "## Step two ( Define White Traingle Region)"
   ]
  },
  {
   "cell_type": "code",
   "execution_count": 2,
   "metadata": {},
   "outputs": [],
   "source": [
    "import cv2\n",
    "import numpy as np\n",
    "\n",
    "def canny(image):\n",
    "    gray = cv2.cvtColor(lane_image,cv2.COLOR_BGR2GRAY)\n",
    "    blur = cv2.GaussianBlur(gray,(5,5),0)\n",
    "    canny = cv2.Canny(blur,50,150)\n",
    "    return canny\n",
    "\n",
    "def region_of_interest(image):\n",
    "    height = image.shape[0]\n",
    "    triangle = np.array([[(200,height),(1100,height),(550,250)]])\n",
    "    mask = np.zeros_like(image)\n",
    "    cv2.fillPoly(mask,triangle,255)\n",
    "    return mask\n",
    "\n",
    "cv2.namedWindow(\"lane\",cv2.WINDOW_GUI_NORMAL)\n",
    "filepath = \"C:\\\\Users\\\\Aung Thiha\\\\Lane Detection\\\\test_image.png\"\n",
    "image = cv2.imread(filepath)\n",
    "lane_image = np.copy(image)\n",
    "canny = canny(lane_image)\n",
    "\n",
    "cv2.imshow(\"lane\",region_of_interest(canny))\n",
    "cv2.waitKey(0)\n",
    "cv2.destroyAllWindows()"
   ]
  },
  {
   "cell_type": "markdown",
   "metadata": {},
   "source": [
    "## Extract Region of Lane"
   ]
  },
  {
   "cell_type": "code",
   "execution_count": 15,
   "metadata": {},
   "outputs": [],
   "source": [
    "import cv2\n",
    "import numpy as np\n",
    "\n",
    "def canny(image):\n",
    "    gray = cv2.cvtColor(lane_image,cv2.COLOR_BGR2GRAY)\n",
    "    blur = cv2.GaussianBlur(gray,(5,5),0)\n",
    "    canny = cv2.Canny(blur,50,150)\n",
    "    return canny\n",
    "\n",
    "def region_of_interest(image):\n",
    "    height = image.shape[0]\n",
    "    triangle = np.array([[(200,height),(1100,height),(550,250)]])\n",
    "    mask = np.zeros_like(image)\n",
    "    cv2.fillPoly(mask,triangle,255)             # poly_mask = cv2.fillPoly(mask,triangle,255)\n",
    "    masked_image = cv2.bitwise_and(image,mask)  # masked_image = cv2.bitwise_and(image,poly_mask)\n",
    "    return masked_image\n",
    "\n",
    "cv2.namedWindow(\"lane\",cv2.WINDOW_GUI_NORMAL)\n",
    "filepath = \"C:\\\\Users\\\\Aung Thiha\\\\Lane Detection\\\\test_image.png\"\n",
    "image = cv2.imread(filepath)\n",
    "lane_image = np.copy(image)\n",
    "canny = canny(lane_image)\n",
    "\n",
    "cropped_image = region_of_interest(canny)\n",
    "\n",
    "cv2.imshow(\"lane\",region_of_interest(cropped_image))\n",
    "cv2.waitKey(0)\n",
    "cv2.destroyAllWindows()"
   ]
  },
  {
   "cell_type": "markdown",
   "metadata": {},
   "source": [
    "## Hough Line Transform"
   ]
  },
  {
   "cell_type": "markdown",
   "metadata": {},
   "source": [
    "https://vovkos.github.io/doxyrest-showcase/opencv/sphinxdoc/group_imgproc_feature.html#doxid-dd-d1a-group-imgproc-feature-1ga8618180a5948286384e3b7ca02f6feeb"
   ]
  },
  {
   "cell_type": "code",
   "execution_count": 14,
   "metadata": {},
   "outputs": [],
   "source": [
    "import cv2\n",
    "import numpy as np\n",
    "\n",
    "def canny(image):\n",
    "    gray = cv2.cvtColor(lane_image,cv2.COLOR_BGR2GRAY)\n",
    "    blur = cv2.GaussianBlur(gray,(5,5),0)\n",
    "    canny = cv2.Canny(blur,50,150)\n",
    "    return canny\n",
    "\n",
    "def region_of_interest(image):\n",
    "    height = image.shape[0]\n",
    "    triangle = np.array([[(200,height),(1100,height),(550,250)]])\n",
    "    mask = np.zeros_like(image)\n",
    "    cv2.fillPoly(mask,triangle,255)             # poly_mask = cv2.fillPoly(mask,triangle,255)\n",
    "    masked_image = cv2.bitwise_and(image,mask)  # masked_image = cv2.bitwise_and(image,poly_mask)\n",
    "    return masked_image\n",
    "\n",
    "def display_lines(image,lines):\n",
    "    line_image = np.zeros_like(image)\n",
    "    if lines is not None:\n",
    "        for line in lines:\n",
    "            x1,y1,x2,y2 = line.reshape(4)\n",
    "            cv2.line(line_image , (x1,y1) ,(x2,y2),(0,255,0) , 4 )\n",
    "    return line_image\n",
    "\n",
    "cv2.namedWindow(\"lane\",cv2.WINDOW_GUI_NORMAL)\n",
    "filepath = \"C:\\\\Users\\\\Aung Thiha\\\\Lane Detection\\\\test_image.png\"\n",
    "image = cv2.imread(filepath)\n",
    "lane_image = np.copy(image)\n",
    "canny = canny(lane_image)\n",
    "\n",
    "cropped_image = region_of_interest(canny)\n",
    "lines = cv2.HoughLinesP(cropped_image , 2 , np.pi/180 , 100 , np.array([]) , minLineLength=40,maxLineGap=5 )\n",
    "\n",
    "line_image = display_lines(lane_image,lines)\n",
    "blend_image = cv2.addWeighted(lane_image,0.8,line_image,1,0)\n",
    "\n",
    "cv2.imshow(\"lane\",blend_image)\n",
    "cv2.waitKey(0)\n",
    "cv2.destroyAllWindows()"
   ]
  },
  {
   "cell_type": "code",
   "execution_count": null,
   "metadata": {},
   "outputs": [],
   "source": []
  }
 ],
 "metadata": {
  "kernelspec": {
   "display_name": "Python 3",
   "language": "python",
   "name": "python3"
  },
  "language_info": {
   "codemirror_mode": {
    "name": "ipython",
    "version": 3
   },
   "file_extension": ".py",
   "mimetype": "text/x-python",
   "name": "python",
   "nbconvert_exporter": "python",
   "pygments_lexer": "ipython3",
   "version": "3.7.3"
  }
 },
 "nbformat": 4,
 "nbformat_minor": 2
}
