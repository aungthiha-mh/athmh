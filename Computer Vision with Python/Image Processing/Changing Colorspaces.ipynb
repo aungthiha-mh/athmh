{
 "cells": [
  {
   "cell_type": "markdown",
   "metadata": {},
   "source": [
    "# Color Tracking Example"
   ]
  },
  {
   "cell_type": "markdown",
   "metadata": {},
   "source": [
    "#### To get other flags, just run following commands in your Python terminal"
   ]
  },
  {
   "cell_type": "code",
   "execution_count": null,
   "metadata": {},
   "outputs": [],
   "source": [
    "import cv2\n",
    "flags = [i for i in dir(cv2) if i.startswith('COLOR_')]\n",
    "print(flags)"
   ]
  },
  {
   "cell_type": "markdown",
   "metadata": {},
   "source": [
    "#### Hue range is [0,79], Saturation range is [0,255] and Value range is [0,255])\n"
   ]
  },
  {
   "cell_type": "markdown",
   "metadata": {},
   "source": [
    "### Only one color tracking"
   ]
  },
  {
   "cell_type": "code",
   "execution_count": 34,
   "metadata": {},
   "outputs": [],
   "source": [
    "import cv2\n",
    "import numpy as np\n",
    "\n",
    "cap = cv2.VideoCapture(0)\n",
    "\n",
    "while cap.isOpened()==True:\n",
    "    #cv2.namedWindow(\"Aung Thiha\",cv2.WINDOW_GUI_NORMAL)\n",
    "    ret,frame = cap.read()\n",
    "    \n",
    "    hsv = cv2.cvtColor(frame,cv2.COLOR_BGR2HSV)\n",
    "    \n",
    "    #green\n",
    "    #low = np.array([[[55,170,130]]])\n",
    "    #high = np.array([[[140,255,255]]])\n",
    "    \n",
    "    #red\n",
    "    low_red = np.array(([165, 170, 130]))\n",
    "    high_red = np.array(([255, 255, 255]))\n",
    "    \n",
    "    #blue\n",
    "    low_blue = np.array([70, 170, 130])\n",
    "    high_blue = np.array([160, 255, 255])\n",
    "    \n",
    "    \n",
    "    mask_blue = cv2.inRange(hsv,low_blue,high_blue)\n",
    "    mask_red = cv2.inRange(hsv,low_red,high_red)\n",
    "    \n",
    "    color_track = cv2.bitwise_and(frame,frame, mask= mask_blue)\n",
    "    \n",
    "    cv2.imshow(\"Aung Thiha\",frame)\n",
    "    cv2.imshow(\"HSV\" , color_track)\n",
    "    k = cv2.waitKey(1) & 0XFF\n",
    "    if k ==27:\n",
    "        break\n",
    "\n",
    "cap.release()\n",
    "cv2.destroyAllWindows()"
   ]
  },
  {
   "cell_type": "markdown",
   "metadata": {},
   "source": [
    "###  Two Colors Tracking"
   ]
  },
  {
   "cell_type": "code",
   "execution_count": 35,
   "metadata": {},
   "outputs": [],
   "source": [
    "import cv2\n",
    "import numpy as np\n",
    "\n",
    "cap = cv2.VideoCapture(0)\n",
    "\n",
    "while cap.isOpened()==True:\n",
    "    #cv2.namedWindow(\"Aung Thiha\",cv2.WINDOW_GUI_NORMAL)\n",
    "    ret,frame = cap.read()\n",
    "    \n",
    "    hsv = cv2.cvtColor(frame,cv2.COLOR_BGR2HSV)\n",
    "    \n",
    "    #green\n",
    "    #low = np.array([[[55,170,130]]])\n",
    "    #high = np.array([[[140,255,255]]])\n",
    "    \n",
    "    #red\n",
    "    low_red = np.array(([165, 170, 130]))\n",
    "    high_red = np.array(([255, 255, 255]))\n",
    "    \n",
    "    #blue\n",
    "    low_blue = np.array([70, 170, 130])\n",
    "    high_blue = np.array([160, 255, 255])\n",
    "    \n",
    "    mask_blue = cv2.inRange(hsv,low_blue,high_blue)\n",
    "    mask_red = cv2.inRange(hsv,low_red,high_red)\n",
    "    \n",
    "    color_track_blue = cv2.bitwise_and(frame,frame, mask= mask_blue)\n",
    "    color_track_red = cv2.bitwise_and(frame,frame, mask= mask_red)\n",
    "    \n",
    "    red_blue_tracking = color_track_blue + color_track_red\n",
    "    \n",
    "    cv2.imshow(\"Aung Thiha\",frame)\n",
    "    cv2.imshow(\"HSV\" , red_blue_tracking)\n",
    "    k = cv2.waitKey(1) & 0XFF\n",
    "    if k ==27:\n",
    "        break\n",
    "\n",
    "cap.release()\n",
    "cv2.destroyAllWindows()"
   ]
  },
  {
   "cell_type": "markdown",
   "metadata": {},
   "source": [
    "## How to find HSV values to track?"
   ]
  },
  {
   "cell_type": "markdown",
   "metadata": {},
   "source": [
    "### Green color for HSV"
   ]
  },
  {
   "cell_type": "code",
   "execution_count": 15,
   "metadata": {},
   "outputs": [
    {
     "name": "stdout",
     "output_type": "stream",
     "text": [
      "[[[ 60 255 255]]]\n"
     ]
    }
   ],
   "source": [
    "import numpy as np\n",
    "\n",
    "green = np.uint8([[[0,255,0 ]]])\n",
    "hsv_green = cv2.cvtColor(green,cv2.COLOR_BGR2HSV)\n",
    "print(hsv_green)"
   ]
  },
  {
   "cell_type": "markdown",
   "metadata": {},
   "source": [
    "### Red color for HSV"
   ]
  },
  {
   "cell_type": "code",
   "execution_count": 7,
   "metadata": {},
   "outputs": [
    {
     "name": "stdout",
     "output_type": "stream",
     "text": [
      "[[[  0 255 255]]]\n"
     ]
    }
   ],
   "source": [
    "import numpy as np\n",
    "\n",
    "red = np.uint8([[[0,0,255]]])\n",
    "hsv_red = cv2.cvtColor(red,cv2.COLOR_BGR2HSV)\n",
    "print(hsv_red)"
   ]
  },
  {
   "cell_type": "markdown",
   "metadata": {},
   "source": [
    "### Blue color for HSV"
   ]
  },
  {
   "cell_type": "code",
   "execution_count": 11,
   "metadata": {},
   "outputs": [
    {
     "name": "stdout",
     "output_type": "stream",
     "text": [
      "[[[120 255 255]]]\n"
     ]
    }
   ],
   "source": [
    "import numpy as np\n",
    "\n",
    "blue = np.uint8([[[255,0,0]]])\n",
    "hsv_blue = cv2.cvtColor(blue,cv2.COLOR_BGR2HSV)\n",
    "print(hsv_blue)"
   ]
  }
 ],
 "metadata": {
  "kernelspec": {
   "display_name": "Python 3",
   "language": "python",
   "name": "python3"
  },
  "language_info": {
   "codemirror_mode": {
    "name": "ipython",
    "version": 3
   },
   "file_extension": ".py",
   "mimetype": "text/x-python",
   "name": "python",
   "nbconvert_exporter": "python",
   "pygments_lexer": "ipython3",
   "version": "3.7.3"
  }
 },
 "nbformat": 4,
 "nbformat_minor": 2
}
