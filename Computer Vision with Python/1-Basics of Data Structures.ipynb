{
 "cells": [
  {
   "cell_type": "markdown",
   "metadata": {},
   "source": [
    " ## Every value in Python has a datatype. Since everything is an object in Python programming.\n",
    " \n",
    " There are 7 types of data structures\n",
    " \n",
    " 1-Numbers           >> int , float , complex numbers \n",
    " \n",
    " 2-Strings           >> \"Aung Thiha\" , 'Apple' , \"Python\"\n",
    " \n",
    " 3-Lists             >> [1,2,3 , \"Aung thiha\"]\n",
    " \n",
    " 4-Tuples            >> ( a , b , 1, 2)\n",
    " \n",
    " 5-Set               >> {1,2,3}\n",
    " \n",
    " 6-Dictionary        >> {key:value}\n",
    " \n",
    " 7-Booleans          >> 0,1(true,false)"
   ]
  },
  {
   "cell_type": "markdown",
   "metadata": {},
   "source": [
    "# Number  (Immutable)"
   ]
  },
  {
   "cell_type": "code",
   "execution_count": 14,
   "metadata": {},
   "outputs": [
    {
     "name": "stdout",
     "output_type": "stream",
     "text": [
      "9\n",
      "5\n",
      "14\n",
      "49\n",
      "3.5\n",
      "3\n",
      "1\n",
      "\n",
      "\n",
      "100.60000000000001\n",
      "96.2\n",
      "216.48000000000002\n",
      "24243.15937464832\n",
      "44.72727272727273\n",
      "44.72727272727273\n",
      "1.5999999999999979\n",
      "\n",
      "\n",
      "(5+13j)\n",
      "(-3-5j)\n",
      "(-32+25j)\n",
      "(0.0013280221959758277-0.0013587251425490501j)\n",
      "(0.41237113402061853+0.07216494845360823j)\n",
      "(0.41237113402061853+0.07216494845360823j)\n"
     ]
    }
   ],
   "source": [
    "num1 = 7\n",
    "num2 = 2\n",
    "\n",
    "#addition\n",
    "print(num1 + num2)\n",
    "\n",
    "#subtraction\n",
    "print(num1 - num2)\n",
    "\n",
    "#multiplication\n",
    "print(num1 * num2)\n",
    "\n",
    "#exponent\n",
    "print(num1**num2)\n",
    "\n",
    "#classic division\n",
    "print(num1 / num2)\n",
    "\n",
    "#floor division\n",
    "print(num1 // num2)\n",
    "\n",
    "#modulus\n",
    "print(num1 % num2)\n",
    "\n",
    "print(\"\\n\")\n",
    "\n",
    "num3 = 98.4\n",
    "num4 = 2.2\n",
    "\n",
    "#addition\n",
    "print(num3 + num4)\n",
    "\n",
    "#subtraction\n",
    "print(num3 - num4)\n",
    "\n",
    "#multiplication\n",
    "print(num3 * num4)\n",
    "\n",
    "#exponent\n",
    "print(num3**num4)\n",
    "\n",
    "#classic division\n",
    "print(num3 / num4)\n",
    "\n",
    "#division\n",
    "print(num3 / num4)\n",
    "\n",
    "#modulus\n",
    "print(num3 % num4)\n",
    "\n",
    "print(\"\\n\")\n",
    "\n",
    "num5 = 1+4j\n",
    "num6 = 4+9j\n",
    "\n",
    "#addition\n",
    "print(num5 + num6)\n",
    "\n",
    "#subtraction\n",
    "print(num5 - num6)\n",
    "\n",
    "#multiplication\n",
    "print(num5 * num6)\n",
    "\n",
    "#exponent\n",
    "print(num5**num6)\n",
    "\n",
    "#classic division\n",
    "print(num5 / num6)\n",
    "\n",
    "#division\n",
    "print(num5 / num6)\n",
    "\n",
    "#modulus (Cannot mod)\n",
    "#print(num5 % num6)"
   ]
  },
  {
   "cell_type": "markdown",
   "metadata": {},
   "source": [
    "# String    (Ordered Sequence and Immutable)"
   ]
  },
  {
   "cell_type": "code",
   "execution_count": 15,
   "metadata": {},
   "outputs": [
    {
     "name": "stdout",
     "output_type": "stream",
     "text": [
      "Aung Thiha\n"
     ]
    }
   ],
   "source": [
    "name = \"Aung Thiha\"\n",
    "\n",
    "#name = input(\"Enter your name : \")\n",
    "\n",
    "#Output\n",
    "print(name)"
   ]
  },
  {
   "cell_type": "markdown",
   "metadata": {},
   "source": [
    "#### String Indexing and Slicing"
   ]
  },
  {
   "cell_type": "code",
   "execution_count": 16,
   "metadata": {},
   "outputs": [
    {
     "name": "stdout",
     "output_type": "stream",
     "text": [
      "e\n",
      "Ste\n",
      "tv os\n",
      "sboJ e\n",
      "sboJ evetS\n"
     ]
    }
   ],
   "source": [
    "name = \"Steve Jobs\"\n",
    "\n",
    "# Indexing\n",
    "print(name[2])\n",
    "\n",
    "# Forward Slicing\n",
    "print(name[0:3])\n",
    "print(name[1:10:2])\n",
    "\n",
    "# Inverse Slicing\n",
    "print(name[:3:-1])\n",
    "\n",
    "# to get reverse words\n",
    "print(name[::-1])"
   ]
  },
  {
   "cell_type": "markdown",
   "metadata": {},
   "source": [
    "#### String Properties"
   ]
  },
  {
   "cell_type": "code",
   "execution_count": 17,
   "metadata": {},
   "outputs": [
    {
     "name": "stdout",
     "output_type": "stream",
     "text": [
      "Aung Thiha\n",
      "Aung  Thiha\n",
      "Aung  + Thiha\n",
      "Zin\n"
     ]
    }
   ],
   "source": [
    "first_name = \"Aung \"\n",
    "second_name = \"Thiha\"\n",
    "\n",
    "print(first_name + second_name)\n",
    "print(first_name,second_name)\n",
    "print(first_name , \"+\" , second_name)\n",
    "\n",
    "'''string is immutable , so to change string ->\n",
    " method = to create new variable\n",
    "'''\n",
    "\n",
    "#1st method\n",
    "first_name = \"Zin\"\n",
    "print(first_name)\n",
    "\n",
    "# to prove string is immutable\n",
    "#second_name[1] = \"Q\"\n",
    "#print(second_name)"
   ]
  },
  {
   "cell_type": "markdown",
   "metadata": {},
   "source": [
    "#### String Interpolation (Print Formatting)"
   ]
  },
  {
   "cell_type": "code",
   "execution_count": 18,
   "metadata": {
    "slideshow": {
     "slide_type": "slide"
    }
   },
   "outputs": [
    {
     "name": "stdout",
     "output_type": "stream",
     "text": [
      "The addition of 4  and 8 is 12 \n",
      "The addition of 4  and 8 is 12\n"
     ]
    }
   ],
   "source": [
    "number1 = 4\n",
    "number2 = 8\n",
    "result = number1 + number2\n",
    "\n",
    "# Using .format() method\n",
    "print(\"The addition of {0}  and {1} is {2} \".format(number1,number2,result))\n",
    "\n",
    "# Using f-string method\n",
    "print(f\"The addition of {number1}  and {number2} is {result}\")"
   ]
  },
  {
   "cell_type": "markdown",
   "metadata": {},
   "source": [
    "# List  (Order sequence and mutable)"
   ]
  },
  {
   "cell_type": "code",
   "execution_count": 19,
   "metadata": {},
   "outputs": [
    {
     "name": "stdout",
     "output_type": "stream",
     "text": [
      "Strawberry\n",
      "['Apple', 'Orange', 'Pineapple', 'Mango']\n"
     ]
    }
   ],
   "source": [
    "fruit = [\"Apple\" , \"Orange\" , \"Strawberry\" , \"Mango\"]\n",
    "\n",
    "# order sequence can use indexing and slicing\n",
    "print(fruit[2])\n",
    "\n",
    "# to prove list is mutable\n",
    "fruit[2] = \"Pineapple\"\n",
    "print(fruit)"
   ]
  },
  {
   "cell_type": "markdown",
   "metadata": {},
   "source": [
    "# Tuple (Order Sequence and Immutable)"
   ]
  },
  {
   "cell_type": "code",
   "execution_count": 20,
   "metadata": {},
   "outputs": [
    {
     "name": "stdout",
     "output_type": "stream",
     "text": [
      "c\n",
      "2\n"
     ]
    }
   ],
   "source": [
    "random_lists = (1,\"abc\",[1,2,3])\n",
    "\n",
    "# order sequence can use indexing and slicing\n",
    "print(random_lists[1][2])\n",
    "print(random_lists[2][1])\n",
    "\n",
    "# to prove tuple is immutable\n",
    "#random_lists[0] = 4\n",
    "#print(random_lists)"
   ]
  },
  {
   "cell_type": "markdown",
   "metadata": {},
   "source": [
    "# Set  (Unordered sequence and Immutable)"
   ]
  },
  {
   "cell_type": "markdown",
   "metadata": {},
   "source": [
    "Set has no duplicate entry (Unique Value) and must no be mutable data types in it"
   ]
  },
  {
   "cell_type": "code",
   "execution_count": 21,
   "metadata": {},
   "outputs": [
    {
     "name": "stdout",
     "output_type": "stream",
     "text": [
      "{1, 2, 3, 4}\n"
     ]
    }
   ],
   "source": [
    "digits = {1,2,3,1,2,4,4,4}\n",
    "\n",
    "# unique element\n",
    "print(digits)\n",
    "\n",
    "# unorder sequence cannot use indexing and slicing\n",
    "# print(digits[2])\n",
    "\n",
    "# to prove set is immutable\n",
    "#digits[1] = 4\n",
    "\n",
    "# to prove must not be mutable in it\n",
    "#dig = {[1,2,3] , 4 , 5}\n",
    "#print(dig)"
   ]
  },
  {
   "cell_type": "markdown",
   "metadata": {},
   "source": [
    "# Dictionary  (Unordered sequence and mutable)"
   ]
  },
  {
   "cell_type": "code",
   "execution_count": 22,
   "metadata": {},
   "outputs": [
    {
     "name": "stdout",
     "output_type": "stream",
     "text": [
      "Samsung\n",
      "{5: 'Samsung', 2: 'Mi', 3: 'Huawei', 1: 'Oppo'}\n"
     ]
    }
   ],
   "source": [
    "phones = {5:\"Samsung\" , 2:\"Mi\" , 3:\"Huawei\"}\n",
    "\n",
    "print(phones[5])\n",
    "\n",
    "# unorder sequence cannot use indexing and slicing\n",
    "#print(phones[2:3])\n",
    "\n",
    "# to prove set is mutable\n",
    "phones[1] = \"Oppo\"\n",
    "print(phones)"
   ]
  },
  {
   "cell_type": "markdown",
   "metadata": {},
   "source": [
    "# Booleans"
   ]
  },
  {
   "cell_type": "code",
   "execution_count": 2,
   "metadata": {},
   "outputs": [
    {
     "name": "stdout",
     "output_type": "stream",
     "text": [
      "True\n",
      "False\n"
     ]
    }
   ],
   "source": [
    "x = 6\n",
    "y = 19\n",
    "\n",
    "print(x<y)\n",
    "print(x>y)"
   ]
  },
  {
   "cell_type": "code",
   "execution_count": null,
   "metadata": {},
   "outputs": [],
   "source": []
  }
 ],
 "metadata": {
  "kernelspec": {
   "display_name": "Python 3",
   "language": "python",
   "name": "python3"
  },
  "language_info": {
   "codemirror_mode": {
    "name": "ipython",
    "version": 3
   },
   "file_extension": ".py",
   "mimetype": "text/x-python",
   "name": "python",
   "nbconvert_exporter": "python",
   "pygments_lexer": "ipython3",
   "version": "3.7.4"
  }
 },
 "nbformat": 4,
 "nbformat_minor": 2
}
