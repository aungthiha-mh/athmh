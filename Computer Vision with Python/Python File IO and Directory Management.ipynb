{
 "cells": [
  {
   "cell_type": "markdown",
   "metadata": {},
   "source": [
    "# File IO"
   ]
  },
  {
   "cell_type": "code",
   "execution_count": 1,
   "metadata": {},
   "outputs": [],
   "source": [
    "filepath = \"D:\\\\My Files\\\\Mechatronic Engineering\\\\ath.txt\"\n",
    "with open(filepath , \"w\") as f:\n",
    "    f.write(\"Hello Aung Thiha !\")"
   ]
  },
  {
   "cell_type": "code",
   "execution_count": null,
   "metadata": {},
   "outputs": [],
   "source": [
    "try:\n",
    "    filepath = \"D:\\\\My Files\\\\Mechatronic Engineering\\\\Pass.txt\"\n",
    "    file = open(filepath , \"w\")\n",
    "    file.write(\"Aung Thiha is the best ! \\n My girlfriend is nothing\")\n",
    "except:\n",
    "    file.close()"
   ]
  },
  {
   "cell_type": "markdown",
   "metadata": {},
   "source": [
    "# Directory and Files Management"
   ]
  },
  {
   "cell_type": "markdown",
   "metadata": {},
   "source": [
    "## Get , Change and list working working directory"
   ]
  },
  {
   "cell_type": "code",
   "execution_count": 10,
   "metadata": {},
   "outputs": [
    {
     "name": "stdout",
     "output_type": "stream",
     "text": [
      "C:\\Users\\Aung Thiha\\2-Jupyter Notebook Examples\n",
      "['English Learning', 'Mechatronic Engineering', 'Movies and Series']\n"
     ]
    }
   ],
   "source": [
    "import os\n",
    "\n",
    "# get current working directory\n",
    "print(os.getcwd())\n",
    "\n",
    "#os.chdir(\"D:\\\\My Files\")\n",
    "#print(os.getcwd())\n",
    "\n",
    "print(os.listdir(\"D:\\\\My files\"))"
   ]
  },
  {
   "cell_type": "markdown",
   "metadata": {},
   "source": [
    "## Make Directory"
   ]
  },
  {
   "cell_type": "code",
   "execution_count": 17,
   "metadata": {},
   "outputs": [],
   "source": [
    "os.chdir(\"D:\\\\\")\n",
    "os.mkdir(\"Aung Thiha\")"
   ]
  },
  {
   "cell_type": "markdown",
   "metadata": {},
   "source": [
    "## Rename Directory"
   ]
  },
  {
   "cell_type": "code",
   "execution_count": 13,
   "metadata": {},
   "outputs": [],
   "source": [
    "os.rename(\"D:\\\\Aung Thiha\" , \"D:\\\\Thiha Aung\")"
   ]
  },
  {
   "cell_type": "markdown",
   "metadata": {},
   "source": [
    "## Remove Directory and Files"
   ]
  },
  {
   "cell_type": "code",
   "execution_count": 21,
   "metadata": {},
   "outputs": [],
   "source": [
    "#remove directory\n",
    "os.rmdir(\"D:\\\\Aung Thiha\")\n",
    "\n",
    "#remove file\n",
    "os.remove(\"D:\\\\zzz.doc\")"
   ]
  },
  {
   "cell_type": "code",
   "execution_count": null,
   "metadata": {},
   "outputs": [],
   "source": []
  }
 ],
 "metadata": {
  "kernelspec": {
   "display_name": "Python 3",
   "language": "python",
   "name": "python3"
  },
  "language_info": {
   "codemirror_mode": {
    "name": "ipython",
    "version": 3
   },
   "file_extension": ".py",
   "mimetype": "text/x-python",
   "name": "python",
   "nbconvert_exporter": "python",
   "pygments_lexer": "ipython3",
   "version": "3.7.3"
  }
 },
 "nbformat": 4,
 "nbformat_minor": 2
}
