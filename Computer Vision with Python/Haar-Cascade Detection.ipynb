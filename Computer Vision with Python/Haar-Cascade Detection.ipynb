{
 "cells": [
  {
   "cell_type": "code",
   "execution_count": null,
   "metadata": {},
   "outputs": [],
   "source": [
    "import cv2\n",
    "import numpy as np\n",
    "\n",
    "# Loads a classifier from a file.\n",
    "face_cascade = cv2.CascadeClassifier('C:\\\\Users\\\\Aung Thiha\\\\Anaconda3\\\\Library\\\\etc\\\\haarcascades\\\\haarcascade_frontalface_default.xml')\n",
    "eye_cascade = cv2.CascadeClassifier('C:\\\\Users\\\\Aung Thiha\\\\Anaconda3\\\\Library\\\\etc\\\\haarcascades\\\\haarcascade_eye_tree_eyeglasses.xml')\n",
    "\n",
    "cap = cv2.VideoCapture(0)\n",
    "\n",
    "while True:\n",
    "    ret,frame = cap.read()\n",
    "    gray = cv2.cvtColor(frame, cv2.COLOR_BGR2GRAY)\n",
    "    \n",
    "    # Detects objects of different sizes in the input image. The detected objects are returned as a list of rectangles.\n",
    "    faces = face_cascade.detectMultiScale(gray , 1.5 , 2)\n",
    "    \n",
    "    for (x,y,w,h) in faces:\n",
    "        cv2.rectangle(frame , (x,y) , (x+w , y+h) , (255,255,0) , 5)\n",
    "        roi_gray = gray[y:y+h , x:x+w]\n",
    "        roi_color = frame[y:y+h , x:x+w]\n",
    "        \n",
    "        eyes = eye_cascade.detectMultiScale(roi_gray)\n",
    "        \n",
    "        for (ex,ey,ew,eh) in eyes:\n",
    "            cv2.rectangle(roi_color , (ex,ey) , (ex+ew , ey+eh) , (255,0,255) , 2)\n",
    "            \n",
    "    cv2.imshow(\"Image\" , frame)\n",
    "    k = cv2.waitKey(1) & 0xFF\n",
    "    if  k == 27:\n",
    "        break\n",
    "\n",
    "# When everything done, release the capture\n",
    "cap.release()\n",
    "cv2.destroyAllWindows()"
   ]
  },
  {
   "cell_type": "markdown",
   "metadata": {},
   "source": [
    "# Own Haar Cascade Classifier"
   ]
  },
  {
   "cell_type": "code",
   "execution_count": null,
   "metadata": {},
   "outputs": [],
   "source": [
    "import cv2\n",
    "import numpy as np\n",
    "\n",
    "# Loads a classifier from a file.\n",
    "face_cascade = cv2.CascadeClassifier('D:\\Original _dasar_haartrain\\\\myhaar.xml')\n",
    "#eye_cascade = cv2.CascadeClassifier('C:\\\\Users\\\\Aung Thiha\\\\Anaconda3\\\\Library\\\\etc\\\\haarcascades\\\\haarcascade_eye_tree_eyeglasses.xml')\n",
    "\n",
    "cap = cv2.VideoCapture(0)\n",
    "\n",
    "while True:\n",
    "    ret,frame = cap.read()\n",
    "    gray = cv2.cvtColor(frame, cv2.COLOR_BGR2GRAY)\n",
    "    \n",
    "    # Detects objects of different sizes in the input image. The detected objects are returned as a list of rectangles.\n",
    "    faces = face_cascade.detectMultiScale(gray , 1.5 , 2)\n",
    "    \n",
    "    for (x,y,w,h) in faces:\n",
    "        cv2.rectangle(frame , (x,y) , (x+w , y+h) , (255,255,0) , 5)\n",
    "        font = cv2.FONT_HERSHEY_DUPLEX\n",
    "        cv2.putText(frame, \"Aung Thiha\", (h + 6, w - 6), font, 1.0, (255, 255, 255), 1)\n",
    "\n",
    "        roi_gray = gray[y:y+h , x:x+w]\n",
    "        roi_color = frame[y:y+h , x:x+w]\n",
    "        \n",
    "        #eyes = eye_cascade.detectMultiScale(roi_gray)\n",
    "        \n",
    "        #for (ex,ey,ew,eh) in eyes:\n",
    "            #cv2.rectangle(roi_color , (ex,ey) , (ex+ew , ey+eh) , (255,0,255) , 2)\n",
    "            \n",
    "    cv2.imshow(\"Image\" , frame)\n",
    "    k = cv2.waitKey(1) & 0xFF\n",
    "    if  k == 27:\n",
    "        break\n",
    "\n",
    "# When everything done, release the capture\n",
    "cap.release()\n",
    "cv2.destroyAllWindows()"
   ]
  },
  {
   "cell_type": "code",
   "execution_count": null,
   "metadata": {},
   "outputs": [],
   "source": []
  }
 ],
 "metadata": {
  "kernelspec": {
   "display_name": "Python 3",
   "language": "python",
   "name": "python3"
  },
  "language_info": {
   "codemirror_mode": {
    "name": "ipython",
    "version": 3
   },
   "file_extension": ".py",
   "mimetype": "text/x-python",
   "name": "python",
   "nbconvert_exporter": "python",
   "pygments_lexer": "ipython3",
   "version": "3.7.3"
  }
 },
 "nbformat": 4,
 "nbformat_minor": 2
}
