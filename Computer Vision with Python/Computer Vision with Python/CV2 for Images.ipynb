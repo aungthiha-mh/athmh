{
 "cells": [
  {
   "cell_type": "markdown",
   "metadata": {},
   "source": [
    "# Read,Display and Save(write) Image"
   ]
  },
  {
   "cell_type": "code",
   "execution_count": 12,
   "metadata": {},
   "outputs": [
    {
     "name": "stdout",
     "output_type": "stream",
     "text": [
      "\n"
     ]
    }
   ],
   "source": [
    "import numpy as np\n",
    "import cv2\n",
    "\n",
    "def main():\n",
    "    imgpath = \"C:\\\\Users\\\\Aung Thiha\\\\misc\\\\4.2.04.tif\"\n",
    "    outpath = \"D:\\\\My Files\\\\Mechatronic Engineering\\\\Computer Vision\\\\Lena.png\"\n",
    "    cv2.namedWindow(\"Lena\" , cv2.WINDOW_NORMAL)\n",
    "    img = cv2.imread(imgpath , -1)\n",
    "    cv2.imshow(\"Lena\" , img)\n",
    "    cv2.imwrite(outpath , img)\n",
    "    cv2.waitKey(0)\n",
    "    cv2.destroyAllWindows()\n",
    "if __name__ == \"__main__\":\n",
    "    main()\n",
    "    print()"
   ]
  },
  {
   "cell_type": "markdown",
   "metadata": {},
   "source": [
    "# Accessing Image Properties"
   ]
  },
  {
   "cell_type": "code",
   "execution_count": 6,
   "metadata": {},
   "outputs": [
    {
     "name": "stdout",
     "output_type": "stream",
     "text": [
      "(256, 256, 3)\n",
      "196608\n",
      "uint8\n",
      "3\n",
      "[[[125 137 226]\n",
      "  [130 136 223]\n",
      "  [118 133 226]\n",
      "  ...\n",
      "  [127 145 230]\n",
      "  [122 148 232]\n",
      "  [100 114 210]]\n",
      "\n",
      " [[125 137 226]\n",
      "  [130 136 223]\n",
      "  [118 133 226]\n",
      "  ...\n",
      "  [127 145 230]\n",
      "  [122 148 232]\n",
      "  [100 114 210]]\n",
      "\n",
      " [[124 138 226]\n",
      "  [121 133 223]\n",
      "  [117 134 226]\n",
      "  ...\n",
      "  [118 133 222]\n",
      "  [108 125 217]\n",
      "  [ 90  87 182]]\n",
      "\n",
      " ...\n",
      "\n",
      " [[ 61  28  90]\n",
      "  [ 61  28  91]\n",
      "  [ 63  29  97]\n",
      "  ...\n",
      "  [ 71  53 140]\n",
      "  [ 73  62 158]\n",
      "  [ 74  59 161]]\n",
      "\n",
      " [[ 60  20  85]\n",
      "  [ 59  25  91]\n",
      "  [ 62  26  94]\n",
      "  ...\n",
      "  [ 82  64 153]\n",
      "  [ 81  69 172]\n",
      "  [ 78  65 170]]\n",
      "\n",
      " [[ 57  22  82]\n",
      "  [ 62  30  94]\n",
      "  [ 61  25  95]\n",
      "  ...\n",
      "  [ 84  71 167]\n",
      "  [ 78  68 178]\n",
      "  [ 81  72 183]]]\n"
     ]
    }
   ],
   "source": [
    "import cv2\n",
    "import numpy\n",
    "\n",
    "imgpath = \"C:\\\\Users\\\\Aung Thiha\\\\misc\\\\4.2.04.tif\"\n",
    "img = cv2.imread(imgpath , -1)\n",
    "print(img.shape)\n",
    "print(img.size)\n",
    "print(img.dtype)\n",
    "print(img.ndim)\n",
    "print(img)"
   ]
  },
  {
   "cell_type": "code",
   "execution_count": null,
   "metadata": {},
   "outputs": [],
   "source": []
  }
 ],
 "metadata": {
  "kernelspec": {
   "display_name": "Python 3",
   "language": "python",
   "name": "python3"
  },
  "language_info": {
   "codemirror_mode": {
    "name": "ipython",
    "version": 3
   },
   "file_extension": ".py",
   "mimetype": "text/x-python",
   "name": "python",
   "nbconvert_exporter": "python",
   "pygments_lexer": "ipython3",
   "version": "3.7.3"
  }
 },
 "nbformat": 4,
 "nbformat_minor": 2
}
