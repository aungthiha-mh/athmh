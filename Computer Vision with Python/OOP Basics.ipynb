{
 "cells": [
  {
   "cell_type": "markdown",
   "metadata": {},
   "source": [
    "## Normal Class"
   ]
  },
  {
   "cell_type": "code",
   "execution_count": 22,
   "metadata": {},
   "outputs": [
    {
     "name": "stdout",
     "output_type": "stream",
     "text": [
      "a\n",
      "I am first calculator !\n"
     ]
    }
   ],
   "source": [
    "class calculator1():\n",
    "    \n",
    "    types = \"Modern Calculator\"\n",
    "    print(\"a\")\n",
    "    def __init__(self,size,price,weight):\n",
    "        self.__size = 100\n",
    "        self.price = price\n",
    "        self.weight = weight\n",
    "        print(\"I am first calculator !\")\n",
    "    \n",
    "    def add(self):\n",
    "        a = int(input(\"Enter first number : \"))\n",
    "        b = int(input(\"Enter second number : \"))\n",
    "        result = a + b\n",
    "        return result\n",
    "    \n",
    "    def subtract(self):\n",
    "        a = int(input(\"Enter first number : \"))\n",
    "        b = int(input(\"Enter second number : \"))\n",
    "        result = a - b\n",
    "        return result\n",
    "    \n",
    "\n",
    "cal1 = calculator1(100,\"20000 Kyats\" , 100)"
   ]
  },
  {
   "cell_type": "markdown",
   "metadata": {},
   "source": [
    "## Inheritance Class"
   ]
  },
  {
   "cell_type": "code",
   "execution_count": 34,
   "metadata": {},
   "outputs": [
    {
     "name": "stdout",
     "output_type": "stream",
     "text": [
      "b\n",
      "I am first calculator !\n",
      "I am second calculator !\n"
     ]
    },
    {
     "ename": "AttributeError",
     "evalue": "'NoneType' object has no attribute 'size'",
     "output_type": "error",
     "traceback": [
      "\u001b[1;31m---------------------------------------------------------------------------\u001b[0m",
      "\u001b[1;31mAttributeError\u001b[0m                            Traceback (most recent call last)",
      "\u001b[1;32m<ipython-input-34-c54dc3f95e24>\u001b[0m in \u001b[0;36m<module>\u001b[1;34m\u001b[0m\n\u001b[0;32m     21\u001b[0m         \u001b[1;32mreturn\u001b[0m \u001b[0mresult\u001b[0m\u001b[1;33m\u001b[0m\u001b[1;33m\u001b[0m\u001b[0m\n\u001b[0;32m     22\u001b[0m \u001b[1;33m\u001b[0m\u001b[0m\n\u001b[1;32m---> 23\u001b[1;33m \u001b[0mcal2\u001b[0m \u001b[1;33m=\u001b[0m \u001b[0mcalculator2\u001b[0m\u001b[1;33m(\u001b[0m\u001b[1;36m200\u001b[0m\u001b[1;33m,\u001b[0m\u001b[1;34m\"aaa\"\u001b[0m\u001b[1;33m,\u001b[0m\u001b[1;36m300\u001b[0m\u001b[1;33m)\u001b[0m\u001b[1;33m\u001b[0m\u001b[1;33m\u001b[0m\u001b[0m\n\u001b[0m\u001b[0;32m     24\u001b[0m \u001b[1;33m\u001b[0m\u001b[0m\n\u001b[0;32m     25\u001b[0m \u001b[1;31m# Method Resolution\u001b[0m\u001b[1;33m\u001b[0m\u001b[1;33m\u001b[0m\u001b[1;33m\u001b[0m\u001b[0m\n",
      "\u001b[1;32m<ipython-input-34-c54dc3f95e24>\u001b[0m in \u001b[0;36m__init__\u001b[1;34m(self, size, price, weight)\u001b[0m\n\u001b[0;32m      7\u001b[0m         \u001b[0ma\u001b[0m \u001b[1;33m=\u001b[0m \u001b[0mcalculator1\u001b[0m\u001b[1;33m.\u001b[0m\u001b[0m__init__\u001b[0m\u001b[1;33m(\u001b[0m\u001b[0mself\u001b[0m\u001b[1;33m,\u001b[0m\u001b[0msize\u001b[0m\u001b[1;33m,\u001b[0m\u001b[0mprice\u001b[0m\u001b[1;33m,\u001b[0m\u001b[0mweight\u001b[0m\u001b[1;33m)\u001b[0m\u001b[1;33m\u001b[0m\u001b[1;33m\u001b[0m\u001b[0m\n\u001b[0;32m      8\u001b[0m         \u001b[0mprint\u001b[0m\u001b[1;33m(\u001b[0m\u001b[1;34m\"I am second calculator !\"\u001b[0m\u001b[1;33m)\u001b[0m\u001b[1;33m\u001b[0m\u001b[1;33m\u001b[0m\u001b[0m\n\u001b[1;32m----> 9\u001b[1;33m         \u001b[0mprint\u001b[0m\u001b[1;33m(\u001b[0m\u001b[0ma\u001b[0m\u001b[1;33m.\u001b[0m\u001b[0msize\u001b[0m\u001b[1;33m)\u001b[0m\u001b[1;33m\u001b[0m\u001b[1;33m\u001b[0m\u001b[0m\n\u001b[0m\u001b[0;32m     10\u001b[0m \u001b[1;33m\u001b[0m\u001b[0m\n\u001b[0;32m     11\u001b[0m     \u001b[1;32mdef\u001b[0m \u001b[0mmultiply\u001b[0m\u001b[1;33m(\u001b[0m\u001b[0mself\u001b[0m\u001b[1;33m)\u001b[0m\u001b[1;33m:\u001b[0m\u001b[1;33m\u001b[0m\u001b[1;33m\u001b[0m\u001b[0m\n",
      "\u001b[1;31mAttributeError\u001b[0m: 'NoneType' object has no attribute 'size'"
     ]
    }
   ],
   "source": [
    "''' Multiple Inheritance'''\n",
    "\n",
    "class calculator2(calculator1):\n",
    "    print(\"b\")\n",
    "    def __init__(self,size,price,weight):\n",
    "        \n",
    "        a = calculator1.__init__(self,size,price,weight)\n",
    "        print(\"I am second calculator !\")\n",
    "        print(a.size)\n",
    "    \n",
    "    def multiply(self):\n",
    "        a = int(input(\"Enter first number : \"))\n",
    "        b = int(input(\"Enter second number : \"))\n",
    "        result = a * b\n",
    "        return result\n",
    "    \n",
    "    def divide(self):\n",
    "        a = int(input(\"Enter first number : \"))\n",
    "        b = int(input(\"Enter second number : \"))\n",
    "        result = a / b\n",
    "        return result\n",
    "    \n",
    "cal2 = calculator2(200,\"aaa\",300)\n",
    "\n",
    "# Method Resolution\n",
    "print(calculator2.__mro__)\n",
    "print(calculator2.mro())"
   ]
  },
  {
   "cell_type": "code",
   "execution_count": 28,
   "metadata": {},
   "outputs": [
    {
     "name": "stdout",
     "output_type": "stream",
     "text": [
      "c\n",
      "I am third calculator !\n",
      "Enter first number : 2\n",
      "Enter second number : 5\n",
      "7\n",
      "(<class '__main__.calculator2'>, <class '__main__.calculator1'>, <class 'object'>)\n",
      "[<class '__main__.calculator2'>, <class '__main__.calculator1'>, <class 'object'>]\n"
     ]
    }
   ],
   "source": [
    "''' Multiple Inheritance'''\n",
    "\n",
    "class calculator3(calculator2,calculator1):\n",
    "    print(\"c\")\n",
    "    def __init__(self):\n",
    "        \n",
    "        #calculator1.__init__(self,size,price,weight)\n",
    "        print(\"I am third calculator !\")\n",
    "        print(\"{}\".format(self.add()))\n",
    "    \n",
    "    def modulus(self):\n",
    "        a = int(input(\"Enter first number : \"))\n",
    "        b = int(input(\"Enter second number : \"))\n",
    "        result = a % b\n",
    "        return result\n",
    "    \n",
    "cal3 = calculator3()\n",
    "\n",
    "# Method Resolution Order\n",
    "print(calculator2.__mro__)\n",
    "print(calculator2.mro())"
   ]
  },
  {
   "cell_type": "code",
   "execution_count": 25,
   "metadata": {},
   "outputs": [
    {
     "name": "stdout",
     "output_type": "stream",
     "text": [
      "Enter first number : 3\n",
      "Enter second number : 4\n"
     ]
    },
    {
     "data": {
      "text/plain": [
       "7"
      ]
     },
     "execution_count": 25,
     "metadata": {},
     "output_type": "execute_result"
    }
   ],
   "source": [
    "cal1."
   ]
  },
  {
   "cell_type": "markdown",
   "metadata": {},
   "source": [
    "## Encapsulation"
   ]
  },
  {
   "cell_type": "code",
   "execution_count": 33,
   "metadata": {},
   "outputs": [
    {
     "name": "stdout",
     "output_type": "stream",
     "text": [
      "Birth name is : Aung Thiha\n",
      "Birth name is : Aung Thiha\n",
      "Birth name is : Shun\n"
     ]
    }
   ],
   "source": [
    "# Private attribute can use in methods of its class\n",
    "\n",
    "'''Encapsulation prevents data from direct modification'''\n",
    "\n",
    "class Aungthiha:\n",
    "\n",
    "    def __init__(self):\n",
    "        self.__name = \"Aung Thiha\"\n",
    "\n",
    "    def name1(self):\n",
    "        print(\"Birth name is : {}\".format(self.__name))\n",
    "        \n",
    "    def newname(self, new):\n",
    "        self.__name = new\n",
    "\n",
    "ath = Aungthiha()\n",
    "ath.name1()\n",
    "\n",
    "# change the name\n",
    "ath.__name = \"Shun\"\n",
    "ath.name1()\n",
    "\n",
    "# using setter function\n",
    "ath.newname(\"Shun\")\n",
    "ath.name1()"
   ]
  },
  {
   "cell_type": "markdown",
   "metadata": {},
   "source": [
    "## Polymorphism"
   ]
  },
  {
   "cell_type": "code",
   "execution_count": 38,
   "metadata": {},
   "outputs": [
    {
     "name": "stdout",
     "output_type": "stream",
     "text": [
      "Parrot can fly\n",
      "Parrot can't swim\n",
      "Penguin can't fly\n",
      "Penguin can swim\n"
     ]
    }
   ],
   "source": [
    "class Parrot:\n",
    "\n",
    "    def fly(self):\n",
    "        print(\"Parrot can fly\")\n",
    "    \n",
    "    def swim(self):\n",
    "        print(\"Parrot can't swim\")\n",
    "\n",
    "class Penguin:\n",
    "\n",
    "    def fly(self):\n",
    "        print(\"Penguin can't fly\")\n",
    "    \n",
    "    def swim(self):\n",
    "        print(\"Penguin can swim\")\n",
    "\n",
    "# common interface\n",
    "def flying_test(bird):\n",
    "    bird.fly()\n",
    "    bird.swim()\n",
    "\n",
    "#instantiate objects\n",
    "blu = Parrot()\n",
    "peggy = Penguin()\n",
    "\n",
    "# passing the object\n",
    "flying_test(blu)\n",
    "flying_test(peggy)"
   ]
  },
  {
   "cell_type": "markdown",
   "metadata": {},
   "source": [
    "# Operator Overloading"
   ]
  },
  {
   "cell_type": "code",
   "execution_count": 39,
   "metadata": {},
   "outputs": [
    {
     "ename": "TypeError",
     "evalue": "__init__() should return None, not 'str'",
     "output_type": "error",
     "traceback": [
      "\u001b[1;31m---------------------------------------------------------------------------\u001b[0m",
      "\u001b[1;31mTypeError\u001b[0m                                 Traceback (most recent call last)",
      "\u001b[1;32m<ipython-input-39-a8e90e78f31d>\u001b[0m in \u001b[0;36m<module>\u001b[1;34m\u001b[0m\n\u001b[0;32m      9\u001b[0m         \u001b[0my\u001b[0m \u001b[1;33m=\u001b[0m \u001b[0mself\u001b[0m\u001b[1;33m.\u001b[0m\u001b[0my\u001b[0m\u001b[1;33m+\u001b[0m\u001b[0mi\u001b[0m\u001b[1;33m.\u001b[0m\u001b[0my\u001b[0m\u001b[1;33m\u001b[0m\u001b[1;33m\u001b[0m\u001b[0m\n\u001b[0;32m     10\u001b[0m         \u001b[1;32mreturn\u001b[0m \u001b[0mPoint\u001b[0m\u001b[1;33m(\u001b[0m\u001b[0mx\u001b[0m\u001b[1;33m,\u001b[0m\u001b[0my\u001b[0m\u001b[1;33m)\u001b[0m\u001b[1;33m\u001b[0m\u001b[1;33m\u001b[0m\u001b[0m\n\u001b[1;32m---> 11\u001b[1;33m \u001b[0mp1\u001b[0m \u001b[1;33m=\u001b[0m \u001b[0mPoint\u001b[0m\u001b[1;33m(\u001b[0m\u001b[1;36m3\u001b[0m\u001b[1;33m,\u001b[0m\u001b[1;36m5\u001b[0m\u001b[1;33m)\u001b[0m\u001b[1;33m\u001b[0m\u001b[1;33m\u001b[0m\u001b[0m\n\u001b[0m\u001b[0;32m     12\u001b[0m \u001b[0mp2\u001b[0m \u001b[1;33m=\u001b[0m \u001b[0mPoint\u001b[0m\u001b[1;33m(\u001b[0m\u001b[1;36m5\u001b[0m\u001b[1;33m,\u001b[0m\u001b[1;36m6\u001b[0m\u001b[1;33m)\u001b[0m\u001b[1;33m\u001b[0m\u001b[1;33m\u001b[0m\u001b[0m\n\u001b[0;32m     13\u001b[0m \u001b[0mprint\u001b[0m\u001b[1;33m(\u001b[0m\u001b[0mp1\u001b[0m\u001b[1;33m+\u001b[0m\u001b[0mp2\u001b[0m\u001b[1;33m)\u001b[0m\u001b[1;33m\u001b[0m\u001b[1;33m\u001b[0m\u001b[0m\n",
      "\u001b[1;31mTypeError\u001b[0m: __init__() should return None, not 'str'"
     ]
    }
   ],
   "source": [
    "class Point:\n",
    "    def __init__(self, x = 0, y = 0):\n",
    "        self.x = x\n",
    "        self.y = y\n",
    "    #def __str__(self):\n",
    "        return \"({} , {})\".format(self.x,self.y)\n",
    "    #def __add__(self,i):\n",
    "        x = self.x+i.x\n",
    "        y = self.y+i.y\n",
    "        return Point(x,y)\n",
    "p1 = Point(3,5)\n",
    "p2 = Point(5,6)\n",
    "print(p1+p2)"
   ]
  },
  {
   "cell_type": "code",
   "execution_count": null,
   "metadata": {},
   "outputs": [],
   "source": []
  }
 ],
 "metadata": {
  "kernelspec": {
   "display_name": "Python 3",
   "language": "python",
   "name": "python3"
  },
  "language_info": {
   "codemirror_mode": {
    "name": "ipython",
    "version": 3
   },
   "file_extension": ".py",
   "mimetype": "text/x-python",
   "name": "python",
   "nbconvert_exporter": "python",
   "pygments_lexer": "ipython3",
   "version": "3.7.4"
  }
 },
 "nbformat": 4,
 "nbformat_minor": 2
}
