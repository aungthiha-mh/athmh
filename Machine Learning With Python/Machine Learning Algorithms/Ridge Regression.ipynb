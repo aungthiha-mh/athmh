{
 "cells": [
  {
   "cell_type": "markdown",
   "metadata": {},
   "source": [
    "https://medium.com/@rrfd/what-is-ridge-regression-applications-in-python-6ed3acbb2aaf\n",
    "\n",
    "https://towardsdatascience.com/ridge-regression-for-better-usage-2f19b3a202db\n",
    "\n",
    "https://github.com/Q-shick/fundamentals_of_data_science/blob/master/mathematical%20_model/Ridge%20and%20Lasso.ipynb\n",
    "\n",
    "https://towardsdatascience.com/intro-to-linear-model-selection-and-regularization-d47bd2c5d54\n",
    "\n",
    "https://www.statisticshowto.datasciencecentral.com/ridge-regression/\n",
    "\n",
    "https://hackernoon.com/an-introduction-to-ridge-lasso-and-elastic-net-regression-cca60b4b934f\n",
    "\n",
    "https://medium.com/@jayeshbahire/lasso-ridge-and-elastic-net-regularization-4807897cb722"
   ]
  },
  {
   "cell_type": "markdown",
   "metadata": {},
   "source": [
    "## Boston House Price Datasets"
   ]
  },
  {
   "cell_type": "code",
   "execution_count": 51,
   "metadata": {},
   "outputs": [
    {
     "name": "stdout",
     "output_type": "stream",
     "text": [
      "Accurancy score is  73.66487011211676 %\n",
      "Accurancy score is  74.00549212220035 %\n",
      "Predict Scores are :  [21.95522837 24.46495388 25.42236978 21.48171418 26.47358401 13.55234531\n",
      " 19.03039043 21.78443169 20.19563967 20.98522819 18.42843617 13.26350697\n",
      " 22.04009918 16.38902288 24.49195582 22.22352389 14.02976499 27.5235752\n",
      " 21.2233352  23.12076332 13.26697956 13.57363568 20.60382868 34.64236021\n",
      " 29.32361993 33.93781707 15.78533486 19.66532956 32.07244351 35.57179228\n",
      " 18.07811796 17.60041464 23.51354247 21.19483746 24.70903944  5.26662183\n",
      " 23.62674348 35.20925119 26.18164862 13.76572982 19.55917917 25.32067165\n",
      " 20.37677645 23.38585984 11.0248398  23.7056471  27.43043179 20.97528183\n",
      " 17.93902418 34.74469289 24.42910744]\n"
     ]
    }
   ],
   "source": [
    "import pandas as pd\n",
    "from sklearn.linear_model import LinearRegression,Ridge\n",
    "from sklearn.model_selection import train_test_split\n",
    "from sklearn.datasets import load_boston\n",
    "import matplotlib.pyplot as plt\n",
    "import numpy as np\n",
    "%matplotlib inline\n",
    "\n",
    "boston = load_boston()\n",
    "\n",
    "df = pd.DataFrame(boston.data,boston.target)\n",
    "df[\"target\"] = boston.target\n",
    "\n",
    "inputs = df.drop([\"target\"],axis=\"columns\")\n",
    "target = df.target\n",
    "\n",
    "X_train,X_test,y_train,y_test = train_test_split(inputs,target,test_size=0.1)\n",
    "\n",
    "ridge_model = Ridge(alpha=2)\n",
    "reg_model = LinearRegression()\n",
    "\n",
    "ridge_model.fit(X_train,y_train)\n",
    "reg_model.fit(X_train,y_train)\n",
    "\n",
    "print(\"Accurancy score is \",ridge_model.score(inputs,target)*100,\"%\")\n",
    "print(\"Accurancy score is \",reg_model.score(inputs,target)*100,\"%\")\n",
    "\n",
    "#print(ridge_model.predict([[0.00632,18.0,2.31,0.0,0.538,6.575,65.2,4.0900,1.0,296.0,15.3,396.90,4.98]]))\n",
    "print(\"Predict Scores are : \",ridge_model.predict(X_test))"
   ]
  }
 ],
 "metadata": {
  "kernelspec": {
   "display_name": "Python 3",
   "language": "python",
   "name": "python3"
  },
  "language_info": {
   "codemirror_mode": {
    "name": "ipython",
    "version": 3
   },
   "file_extension": ".py",
   "mimetype": "text/x-python",
   "name": "python",
   "nbconvert_exporter": "python",
   "pygments_lexer": "ipython3",
   "version": "3.7.4"
  }
 },
 "nbformat": 4,
 "nbformat_minor": 2
}
