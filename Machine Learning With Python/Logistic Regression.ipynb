{
 "cells": [
  {
   "cell_type": "markdown",
   "metadata": {},
   "source": [
    "# Binary Classification- Logistic Regression"
   ]
  },
  {
   "cell_type": "code",
   "execution_count": 40,
   "metadata": {},
   "outputs": [
    {
     "name": "stdout",
     "output_type": "stream",
     "text": [
      "[0 0 0 1 0 1]\n",
      "0.6666666666666666\n"
     ]
    },
    {
     "data": {
      "image/png": "[encoded data removed]",
      "text/plain": [
       "<Figure size 432x288 with 1 Axes>"
      ]
     },
     "metadata": {
      "needs_background": "light"
     },
     "output_type": "display_data"
    }
   ],
   "source": [
    "import pandas as pd\n",
    "from sklearn import model_selection,linear_model\n",
    "import matplotlib.pyplot as plt\n",
    "%matplotlib inline\n",
    "\n",
    "filepath = \"C:\\\\Users\\\\Aung Thiha\\\\Machine Learning With Python\\\\machine learning datasheets\\\\py-master\\\\ML\\\\7_logistic_reg\\\\insurance_data.csv\"\n",
    "df = pd.read_csv(filepath)\n",
    "\n",
    "X = df[[\"age\"]]\n",
    "y = df.bought_insurance\n",
    "\n",
    "plt.scatter(X,y,color=\"red\",marker=\"*\")\n",
    "\n",
    "X_train  ,X_test , y_train ,y_test = model_selection.train_test_split(X,y,test_size=0.2)\n",
    "\n",
    "model = linear_model.LogisticRegression(solver=\"liblinear\")\n",
    "\n",
    "# train 90% of data\n",
    "model.fit(X_train,y_train)\n",
    "\n",
    "print(model.predict(X_test))\n",
    "print(model.score(X_test,y_test))"
   ]
  },
  {
   "cell_type": "markdown",
   "metadata": {},
   "source": [
    "# Multiclass Classification-Logistic Regression"
   ]
  },
  {
   "cell_type": "code",
   "execution_count": null,
   "metadata": {},
   "outputs": [],
   "source": []
  }
 ],
 "metadata": {
  "kernelspec": {
   "display_name": "Python 3",
   "language": "python",
   "name": "python3"
  },
  "language_info": {
   "codemirror_mode": {
    "name": "ipython",
    "version": 3
   },
   "file_extension": ".py",
   "mimetype": "text/x-python",
   "name": "python",
   "nbconvert_exporter": "python",
   "pygments_lexer": "ipython3",
   "version": "3.7.3"
  }
 },
 "nbformat": 4,
 "nbformat_minor": 2
}
